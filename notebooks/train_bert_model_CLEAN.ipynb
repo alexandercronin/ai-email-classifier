{
 "cells": [
  {
   "cell_type": "markdown",
   "metadata": {},
   "source": [
    "# 🚀 BERT Email Classifier Training Notebook\n",
    "\n",
    "This notebook trains a BERT model to classify emails into different categories using our synthetic dataset."
   ]
  },
  {
   "cell_type": "markdown",
   "metadata": {},
   "source": [
    "## get everything running"
   ]
  },
  {
   "cell_type": "code",
   "execution_count": null,
   "metadata": {},
   "outputs": [],
   "source": [
    "# 1) Install uv (one time)\n",
    "# macOS/Linux:\n",
    "#curl -LsSf https://astral.sh/uv/install.sh | sh\n",
    "# Windows (PowerShell):\n",
    "#irm https://astral.sh/uv/install.ps1 | iex\n",
    "\n",
    "# 2) Project folder\n",
    "mkdir car-email-classifier && cd car-email-classifier\n",
    "\n",
    "# 3) Create env + install deps (very fast)\n",
    "uv venv\n",
    "uv pip install -U pip\n",
    "uv pip install jupyterlab ipykernel pandas scikit-learn matplotlib tqdm \\\n",
    "               transformers accelerate huggingface_hub \\\n",
    "               torch \\\n",
    "               google-genai ipywidgets\n",
    "# Optional extras:\n",
    "# uv pip install bitsandbytes llama-cpp-python gpt4all\n",
    "\n",
    "# 4) Make the ipykernel visible in Jupyter\n",
    "python -m ipykernel install --user --name car-email-classifier\n",
    "\n",
    "# 5) Launch\n",
    "#jupyter lab\n"
   ]
  },
  {
   "cell_type": "code",
   "execution_count": 24,
   "metadata": {},
   "outputs": [
    {
     "name": "stdout",
     "output_type": "stream",
     "text": [
      "Torch: 2.7.1\n",
      "Transformers: 4.55.0\n",
      "Pandas: 2.3.1\n",
      "CUDA: False\n",
      "MPS: True\n"
     ]
    }
   ],
   "source": [
    "import torch, transformers, sklearn, pandas as pd\n",
    "print(\"Torch:\", torch.__version__)\n",
    "print(\"Transformers:\", transformers.__version__)\n",
    "print(\"Pandas:\", pd.__version__)\n",
    "print(\"CUDA:\", torch.cuda.is_available())\n",
    "print(\"MPS:\", torch.backends.mps.is_available())"
   ]
  },
  {
   "cell_type": "markdown",
   "metadata": {},
   "source": [
    "## 📦 Install Required Packages\n",
    "\n",
    "Run this cell first to install all necessary dependencies."
   ]
  },
  {
   "cell_type": "code",
   "execution_count": 2,
   "metadata": {},
   "outputs": [
    {
     "name": "stdout",
     "output_type": "stream",
     "text": [
      "Requirement already satisfied: transformers in /Users/davidcurran/Documents/emailClassify/venv/lib/python3.13/site-packages (4.55.0)\n",
      "Requirement already satisfied: torch in /Users/davidcurran/Documents/emailClassify/venv/lib/python3.13/site-packages (2.7.1)\n",
      "Requirement already satisfied: datasets in /Users/davidcurran/Documents/emailClassify/venv/lib/python3.13/site-packages (4.0.0)\n",
      "Requirement already satisfied: accelerate in /Users/davidcurran/Documents/emailClassify/venv/lib/python3.13/site-packages (1.9.0)\n",
      "Requirement already satisfied: filelock in /Users/davidcurran/Documents/emailClassify/venv/lib/python3.13/site-packages (from transformers) (3.18.0)\n",
      "Requirement already satisfied: huggingface-hub<1.0,>=0.34.0 in /Users/davidcurran/Documents/emailClassify/venv/lib/python3.13/site-packages (from transformers) (0.34.3)\n",
      "Requirement already satisfied: numpy>=1.17 in /Users/davidcurran/Documents/emailClassify/venv/lib/python3.13/site-packages (from transformers) (2.3.2)\n",
      "Requirement already satisfied: packaging>=20.0 in /Users/davidcurran/Documents/emailClassify/venv/lib/python3.13/site-packages (from transformers) (25.0)\n",
      "Requirement already satisfied: pyyaml>=5.1 in /Users/davidcurran/Documents/emailClassify/venv/lib/python3.13/site-packages (from transformers) (6.0.2)\n",
      "Requirement already satisfied: regex!=2019.12.17 in /Users/davidcurran/Documents/emailClassify/venv/lib/python3.13/site-packages (from transformers) (2025.7.31)\n",
      "Requirement already satisfied: requests in /Users/davidcurran/Documents/emailClassify/venv/lib/python3.13/site-packages (from transformers) (2.32.4)\n",
      "Requirement already satisfied: tokenizers<0.22,>=0.21 in /Users/davidcurran/Documents/emailClassify/venv/lib/python3.13/site-packages (from transformers) (0.21.4)\n",
      "Requirement already satisfied: safetensors>=0.4.3 in /Users/davidcurran/Documents/emailClassify/venv/lib/python3.13/site-packages (from transformers) (0.5.3)\n",
      "Requirement already satisfied: tqdm>=4.27 in /Users/davidcurran/Documents/emailClassify/venv/lib/python3.13/site-packages (from transformers) (4.67.1)\n",
      "Requirement already satisfied: typing-extensions>=4.10.0 in /Users/davidcurran/Documents/emailClassify/venv/lib/python3.13/site-packages (from torch) (4.14.1)\n",
      "Requirement already satisfied: setuptools in /Users/davidcurran/Documents/emailClassify/venv/lib/python3.13/site-packages (from torch) (80.9.0)\n",
      "Requirement already satisfied: sympy>=1.13.3 in /Users/davidcurran/Documents/emailClassify/venv/lib/python3.13/site-packages (from torch) (1.14.0)\n",
      "Requirement already satisfied: networkx in /Users/davidcurran/Documents/emailClassify/venv/lib/python3.13/site-packages (from torch) (3.5)\n",
      "Requirement already satisfied: jinja2 in /Users/davidcurran/Documents/emailClassify/venv/lib/python3.13/site-packages (from torch) (3.1.6)\n",
      "Requirement already satisfied: fsspec in /Users/davidcurran/Documents/emailClassify/venv/lib/python3.13/site-packages (from torch) (2025.3.0)\n",
      "Requirement already satisfied: pyarrow>=15.0.0 in /Users/davidcurran/Documents/emailClassify/venv/lib/python3.13/site-packages (from datasets) (21.0.0)\n",
      "Requirement already satisfied: dill<0.3.9,>=0.3.0 in /Users/davidcurran/Documents/emailClassify/venv/lib/python3.13/site-packages (from datasets) (0.3.8)\n",
      "Requirement already satisfied: pandas in /Users/davidcurran/Documents/emailClassify/venv/lib/python3.13/site-packages (from datasets) (2.3.1)\n",
      "Requirement already satisfied: xxhash in /Users/davidcurran/Documents/emailClassify/venv/lib/python3.13/site-packages (from datasets) (3.5.0)\n",
      "Requirement already satisfied: multiprocess<0.70.17 in /Users/davidcurran/Documents/emailClassify/venv/lib/python3.13/site-packages (from datasets) (0.70.16)\n",
      "Requirement already satisfied: psutil in /Users/davidcurran/Documents/emailClassify/venv/lib/python3.13/site-packages (from accelerate) (7.0.0)\n",
      "Requirement already satisfied: aiohttp!=4.0.0a0,!=4.0.0a1 in /Users/davidcurran/Documents/emailClassify/venv/lib/python3.13/site-packages (from fsspec[http]<=2025.3.0,>=2023.1.0->datasets) (3.12.15)\n",
      "Requirement already satisfied: hf-xet<2.0.0,>=1.1.3 in /Users/davidcurran/Documents/emailClassify/venv/lib/python3.13/site-packages (from huggingface-hub<1.0,>=0.34.0->transformers) (1.1.5)\n",
      "Requirement already satisfied: charset_normalizer<4,>=2 in /Users/davidcurran/Documents/emailClassify/venv/lib/python3.13/site-packages (from requests->transformers) (3.4.2)\n",
      "Requirement already satisfied: idna<4,>=2.5 in /Users/davidcurran/Documents/emailClassify/venv/lib/python3.13/site-packages (from requests->transformers) (3.10)\n",
      "Requirement already satisfied: urllib3<3,>=1.21.1 in /Users/davidcurran/Documents/emailClassify/venv/lib/python3.13/site-packages (from requests->transformers) (2.5.0)\n",
      "Requirement already satisfied: certifi>=2017.4.17 in /Users/davidcurran/Documents/emailClassify/venv/lib/python3.13/site-packages (from requests->transformers) (2025.7.14)\n",
      "Requirement already satisfied: mpmath<1.4,>=1.1.0 in /Users/davidcurran/Documents/emailClassify/venv/lib/python3.13/site-packages (from sympy>=1.13.3->torch) (1.3.0)\n",
      "Requirement already satisfied: MarkupSafe>=2.0 in /Users/davidcurran/Documents/emailClassify/venv/lib/python3.13/site-packages (from jinja2->torch) (3.0.2)\n",
      "Requirement already satisfied: python-dateutil>=2.8.2 in /Users/davidcurran/Documents/emailClassify/venv/lib/python3.13/site-packages (from pandas->datasets) (2.9.0.post0)\n",
      "Requirement already satisfied: pytz>=2020.1 in /Users/davidcurran/Documents/emailClassify/venv/lib/python3.13/site-packages (from pandas->datasets) (2025.2)\n",
      "Requirement already satisfied: tzdata>=2022.7 in /Users/davidcurran/Documents/emailClassify/venv/lib/python3.13/site-packages (from pandas->datasets) (2025.2)\n",
      "Requirement already satisfied: aiohappyeyeballs>=2.5.0 in /Users/davidcurran/Documents/emailClassify/venv/lib/python3.13/site-packages (from aiohttp!=4.0.0a0,!=4.0.0a1->fsspec[http]<=2025.3.0,>=2023.1.0->datasets) (2.6.1)\n",
      "Requirement already satisfied: aiosignal>=1.4.0 in /Users/davidcurran/Documents/emailClassify/venv/lib/python3.13/site-packages (from aiohttp!=4.0.0a0,!=4.0.0a1->fsspec[http]<=2025.3.0,>=2023.1.0->datasets) (1.4.0)\n",
      "Requirement already satisfied: attrs>=17.3.0 in /Users/davidcurran/Documents/emailClassify/venv/lib/python3.13/site-packages (from aiohttp!=4.0.0a0,!=4.0.0a1->fsspec[http]<=2025.3.0,>=2023.1.0->datasets) (25.3.0)\n",
      "Requirement already satisfied: frozenlist>=1.1.1 in /Users/davidcurran/Documents/emailClassify/venv/lib/python3.13/site-packages (from aiohttp!=4.0.0a0,!=4.0.0a1->fsspec[http]<=2025.3.0,>=2023.1.0->datasets) (1.7.0)\n",
      "Requirement already satisfied: multidict<7.0,>=4.5 in /Users/davidcurran/Documents/emailClassify/venv/lib/python3.13/site-packages (from aiohttp!=4.0.0a0,!=4.0.0a1->fsspec[http]<=2025.3.0,>=2023.1.0->datasets) (6.6.3)\n",
      "Requirement already satisfied: propcache>=0.2.0 in /Users/davidcurran/Documents/emailClassify/venv/lib/python3.13/site-packages (from aiohttp!=4.0.0a0,!=4.0.0a1->fsspec[http]<=2025.3.0,>=2023.1.0->datasets) (0.3.2)\n",
      "Requirement already satisfied: yarl<2.0,>=1.17.0 in /Users/davidcurran/Documents/emailClassify/venv/lib/python3.13/site-packages (from aiohttp!=4.0.0a0,!=4.0.0a1->fsspec[http]<=2025.3.0,>=2023.1.0->datasets) (1.20.1)\n",
      "Requirement already satisfied: six>=1.5 in /Users/davidcurran/Documents/emailClassify/venv/lib/python3.13/site-packages (from python-dateutil>=2.8.2->pandas->datasets) (1.17.0)\n",
      "\n",
      "\u001b[1m[\u001b[0m\u001b[34;49mnotice\u001b[0m\u001b[1;39;49m]\u001b[0m\u001b[39;49m A new release of pip is available: \u001b[0m\u001b[31;49m25.0\u001b[0m\u001b[39;49m -> \u001b[0m\u001b[32;49m25.2\u001b[0m\n",
      "\u001b[1m[\u001b[0m\u001b[34;49mnotice\u001b[0m\u001b[1;39;49m]\u001b[0m\u001b[39;49m To update, run: \u001b[0m\u001b[32;49mpip install --upgrade pip\u001b[0m\n"
     ]
    }
   ],
   "source": [
    "!pip install transformers torch datasets accelerate"
   ]
  },
  {
   "cell_type": "markdown",
   "metadata": {},
   "source": [
    "## 🔧 Import Libraries"
   ]
  },
  {
   "cell_type": "code",
   "execution_count": 3,
   "metadata": {},
   "outputs": [
    {
     "name": "stdout",
     "output_type": "stream",
     "text": [
      "✅ All libraries imported successfully!\n"
     ]
    }
   ],
   "source": [
    "import pandas as pd\n",
    "import numpy as np\n",
    "import matplotlib.pyplot as plt\n",
    "import seaborn as sns\n",
    "from sklearn.model_selection import train_test_split\n",
    "from sklearn.metrics import classification_report, confusion_matrix, accuracy_score, f1_score\n",
    "from sklearn.preprocessing import LabelEncoder\n",
    "import warnings\n",
    "warnings.filterwarnings('ignore')\n",
    "\n",
    "# Transformers and datasets\n",
    "from transformers import AutoTokenizer, AutoModelForSequenceClassification, TrainingArguments, Trainer\n",
    "from datasets import Dataset\n",
    "\n",
    "# Disable wandb logging\n",
    "import os\n",
    "os.environ['WANDB_DISABLED'] = 'true'\n",
    "\n",
    "print('✅ All libraries imported successfully!')"
   ]
  },
  {
   "cell_type": "markdown",
   "metadata": {},
   "source": [
    "## 🎮 GPU Detection & Setup"
   ]
  },
  {
   "cell_type": "code",
   "execution_count": 4,
   "metadata": {},
   "outputs": [
    {
     "name": "stdout",
     "output_type": "stream",
     "text": [
      "✅ Using Apple MPS GPU (Metal Performance Shaders)\n",
      "PyTorch version: 2.7.1\n",
      "Using device: mps\n"
     ]
    }
   ],
   "source": [
    "import torch\n",
    "\n",
    "# Detect and set up GPU\n",
    "if torch.cuda.is_available():\n",
    "    device = torch.device('cuda')\n",
    "    print(f'✅ Using CUDA GPU: {torch.cuda.get_device_name(0)}')\n",
    "    print(f'🎮 GPU Memory: {torch.cuda.get_device_properties(0).total_memory / 1024**3:.1f} GB')\n",
    "elif torch.backends.mps.is_available():\n",
    "    device = torch.device('mps')\n",
    "    print('✅ Using Apple MPS GPU (Metal Performance Shaders)')\n",
    "else:\n",
    "    device = torch.device('cpu')\n",
    "    print('⚠️ No GPU found — using CPU (training will be slower)')\n",
    "\n",
    "print(f'PyTorch version: {torch.__version__}')\n",
    "print(f'Using device: {device}')"
   ]
  },
  {
   "cell_type": "markdown",
   "metadata": {},
   "source": [
    "## 📊 Load and Preprocess Data"
   ]
  },
  {
   "cell_type": "code",
   "execution_count": 57,
   "metadata": {},
   "outputs": [
    {
     "name": "stdout",
     "output_type": "stream",
     "text": [
      "📊 Loading dataset...\n",
      "✅ Dataset loaded! Shape: (948, 4)\n",
      "📧 Total emails: 948\n",
      "🏷️ Categories: 6\n",
      "\n",
      "📋 Category distribution:\n",
      "Label\n",
      "CarBreakdown     160\n",
      "CarTheft         160\n",
      "CarRenewal       160\n",
      "CarCrash         160\n",
      "CarWindshield    160\n",
      "Other            148\n",
      "Name: count, dtype: int64\n"
     ]
    }
   ],
   "source": [
    "# Load the complete dataset\n",
    "print('📊 Loading dataset...')\n",
    "df = pd.read_csv('../streamlit_app/data/complete_dataset_augmented.csv')\n",
    "print(f'✅ Dataset loaded! Shape: {df.shape}')\n",
    "print(f'📧 Total emails: {len(df)}')\n",
    "print(f'🏷️ Categories: {df[\"Label\"].nunique()}')\n",
    "print('\\n📋 Category distribution:')\n",
    "print(df['Label'].value_counts())"
   ]
  },
  {
   "cell_type": "code",
   "execution_count": 58,
   "metadata": {},
   "outputs": [
    {
     "name": "stdout",
     "output_type": "stream",
     "text": [
      "🔧 Data preprocessing...\n",
      "✅ Combined text created. Sample length: 324 chars\n",
      "✅ Labels encoded. Classes: ['CarBreakdown' 'CarCrash' 'CarRenewal' 'CarTheft' 'CarWindshield' 'Other']\n",
      "Data split complete:\n",
      "   Training: {len(X_train)} samples\n",
      "   Testing: {len(X_test)} samples\n",
      "   Classes: {len(label_encoder.classes_)}\n"
     ]
    }
   ],
   "source": [
    "# Data preprocessing\n",
    "print('🔧 Data preprocessing...')\n",
    "\n",
    "# Combine subject and message\n",
    "df['text'] = df['Subject'] + ' ' + df['Message']\n",
    "print(f'✅ Combined text created. Sample length: {len(df[\"text\"].iloc[0])} chars')\n",
    "\n",
    "# Encode labels\n",
    "label_encoder = LabelEncoder()\n",
    "df['label_encoded'] = label_encoder.fit_transform(df['Label'])\n",
    "print(f'✅ Labels encoded. Classes: {label_encoder.classes_}')\n",
    "\n",
    "# Split data\n",
    "X_train, X_test, y_train, y_test = train_test_split(\n",
    "    df['text'], df['label_encoded'], \n",
    "    test_size=0.2, random_state=42, stratify=df['label_encoded']\n",
    ")\n",
    "\n",
    "print('Data split complete:')\n",
    "print('   Training: {len(X_train)} samples')\n",
    "print('   Testing: {len(X_test)} samples')\n",
    "print('   Classes: {len(label_encoder.classes_)}')"
   ]
  },
  {
   "cell_type": "markdown",
   "metadata": {},
   "source": [
    "## 🧠 BERT Model Setup"
   ]
  },
  {
   "cell_type": "code",
   "execution_count": 59,
   "metadata": {},
   "outputs": [
    {
     "name": "stdout",
     "output_type": "stream",
     "text": [
      "🧠 Setting up BERT model...\n"
     ]
    },
    {
     "name": "stderr",
     "output_type": "stream",
     "text": [
      "Some weights of DistilBertForSequenceClassification were not initialized from the model checkpoint at distilbert-base-uncased and are newly initialized: ['classifier.bias', 'classifier.weight', 'pre_classifier.bias', 'pre_classifier.weight']\n",
      "You should probably TRAIN this model on a down-stream task to be able to use it for predictions and inference.\n"
     ]
    },
    {
     "name": "stdout",
     "output_type": "stream",
     "text": [
      "✅ Tokenizer loaded: distilbert-base-uncased\n",
      "✅ Model loaded with 6 output classes\n",
      "✅ Model moved to cpu\n"
     ]
    }
   ],
   "source": [
    "# Initialize tokenizer and model\n",
    "print('🧠 Setting up BERT model...')\n",
    "\n",
    "model_name = 'distilbert-base-uncased'\n",
    "num_labels = len(label_encoder.classes_)\n",
    "\n",
    "# Load tokenizer\n",
    "tokenizer = AutoTokenizer.from_pretrained(model_name)\n",
    "print(f'✅ Tokenizer loaded: {model_name}')\n",
    "\n",
    "# Load model\n",
    "model = AutoModelForSequenceClassification.from_pretrained(\n",
    "    model_name, \n",
    "    num_labels=num_labels\n",
    ")\n",
    "print(f'✅ Model loaded with {num_labels} output classes')\n",
    "\n",
    "# Move model to device\n",
    "model = model.to(device)\n",
    "print(f'✅ Model moved to {device}')"
   ]
  },
  {
   "cell_type": "markdown",
   "metadata": {},
   "source": [
    "## 📝 Data Tokenization"
   ]
  },
  {
   "cell_type": "code",
   "execution_count": 60,
   "metadata": {},
   "outputs": [
    {
     "name": "stdout",
     "output_type": "stream",
     "text": [
      "📝 Tokenizing data...\n"
     ]
    },
    {
     "data": {
      "application/vnd.jupyter.widget-view+json": {
       "model_id": "09c4130dd9d0459eae13c96bb403b6c6",
       "version_major": 2,
       "version_minor": 0
      },
      "text/plain": [
       "Map:   0%|          | 0/758 [00:00<?, ? examples/s]"
      ]
     },
     "metadata": {},
     "output_type": "display_data"
    },
    {
     "data": {
      "application/vnd.jupyter.widget-view+json": {
       "model_id": "6c91d1b1c6dd4c228c665ba9e273d9c9",
       "version_major": 2,
       "version_minor": 0
      },
      "text/plain": [
       "Map:   0%|          | 0/190 [00:00<?, ? examples/s]"
      ]
     },
     "metadata": {},
     "output_type": "display_data"
    },
    {
     "name": "stdout",
     "output_type": "stream",
     "text": [
      "✅ Data tokenized successfully!\n",
      "   Training samples: 758\n",
      "   Test samples: 190\n"
     ]
    }
   ],
   "source": [
    "# Tokenize the data\n",
    "print('📝 Tokenizing data...')\n",
    "\n",
    "def tokenize_function(examples):\n",
    "    return tokenizer(examples['text'], padding='max_length', truncation=True, max_length=512)\n",
    "\n",
    "# Create datasets for HuggingFace\n",
    "train_ds = pd.DataFrame({'text': X_train, 'label': y_train})\n",
    "test_ds = pd.DataFrame({'text': X_test, 'label': y_test})\n",
    "\n",
    "# Convert to HuggingFace Dataset format\n",
    "train_dataset = Dataset.from_pandas(train_ds)\n",
    "test_dataset = Dataset.from_pandas(test_ds)\n",
    "\n",
    "# Tokenize\n",
    "train_dataset = train_dataset.map(tokenize_function, batched=True)\n",
    "test_dataset = test_dataset.map(tokenize_function, batched=True)\n",
    "\n",
    "print('✅ Data tokenized successfully!')\n",
    "print(f'   Training samples: {len(train_dataset)}')\n",
    "print(f'   Test samples: {len(test_dataset)}')"
   ]
  },
  {
   "cell_type": "markdown",
   "metadata": {},
   "source": [
    "## 🎯 Training Configuration"
   ]
  },
  {
   "cell_type": "code",
   "execution_count": 61,
   "metadata": {},
   "outputs": [
    {
     "name": "stderr",
     "output_type": "stream",
     "text": [
      "Using the `WANDB_DISABLED` environment variable is deprecated and will be removed in v5. Use the --report_to flag to control the integrations used for logging result (for instance --report_to none).\n"
     ]
    },
    {
     "name": "stdout",
     "output_type": "stream",
     "text": [
      "📦 Using batch size: 8\n",
      "✅ Training configuration set!\n"
     ]
    }
   ],
   "source": [
    "# Define compute metrics function\n",
    "def compute_metrics(eval_pred):\n",
    "    predictions, labels = eval_pred\n",
    "    predictions = np.argmax(predictions, axis=1)\n",
    "    return {\n",
    "        'accuracy': accuracy_score(labels, predictions),\n",
    "        'f1': f1_score(labels, predictions, average='weighted')\n",
    "    }\n",
    "\n",
    "# Set batch size based on device\n",
    "batch_size = 16 if torch.cuda.is_available() else 8\n",
    "print(f'📦 Using batch size: {batch_size}')\n",
    "\n",
    "# Training arguments\n",
    "training_args = TrainingArguments(\n",
    "    output_dir=\"./bert-email-classifier\",\n",
    "    do_train=True,\n",
    "    eval_strategy=\"epoch\",\n",
    "    per_device_train_batch_size=batch_size,\n",
    "    per_device_eval_batch_size=batch_size,\n",
    "    num_train_epochs=5,\n",
    "    save_strategy=\"epoch\",\n",
    "    logging_dir=\"./logs\",\n",
    "    load_best_model_at_end=True,\n",
    "    metric_for_best_model=\"f1\",\n",
    "    greater_is_better=True,\n",
    "    warmup_steps=100,\n",
    "    weight_decay=0.01,\n",
    "    logging_steps=50,\n",
    "    save_total_limit=2,\n",
    "    # GPU optimizations\n",
    "    dataloader_pin_memory=True if torch.cuda.is_available() else False,\n",
    "    fp16=torch.cuda.is_available(), # Use mixed precision on GPU\n",
    "    gradient_accumulation_steps=2 if torch.cuda.is_available() else 1\n",
    ")\n",
    "\n",
    "print('✅ Training configuration set!')"
   ]
  },
  {
   "cell_type": "code",
   "execution_count": 49,
   "metadata": {},
   "outputs": [
    {
     "data": {
      "text/plain": [
       "2"
      ]
     },
     "execution_count": 49,
     "metadata": {},
     "output_type": "execute_result"
    }
   ],
   "source": [
    "1+1"
   ]
  },
  {
   "cell_type": "markdown",
   "metadata": {},
   "source": [
    "## 🚀 Model Training"
   ]
  },
  {
   "cell_type": "code",
   "execution_count": 62,
   "metadata": {},
   "outputs": [
    {
     "name": "stdout",
     "output_type": "stream",
     "text": [
      "🚀 Starting training...\n",
      "💻 Training on CPU - this may take a while...\n"
     ]
    },
    {
     "data": {
      "text/html": [
       "\n",
       "    <div>\n",
       "      \n",
       "      <progress value='475' max='475' style='width:300px; height:20px; vertical-align: middle;'></progress>\n",
       "      [475/475 07:44, Epoch 5/5]\n",
       "    </div>\n",
       "    <table border=\"1\" class=\"dataframe\">\n",
       "  <thead>\n",
       " <tr style=\"text-align: left;\">\n",
       "      <th>Epoch</th>\n",
       "      <th>Training Loss</th>\n",
       "      <th>Validation Loss</th>\n",
       "      <th>Accuracy</th>\n",
       "      <th>F1</th>\n",
       "    </tr>\n",
       "  </thead>\n",
       "  <tbody>\n",
       "    <tr>\n",
       "      <td>1</td>\n",
       "      <td>1.699400</td>\n",
       "      <td>0.049046</td>\n",
       "      <td>1.000000</td>\n",
       "      <td>1.000000</td>\n",
       "    </tr>\n",
       "    <tr>\n",
       "      <td>2</td>\n",
       "      <td>0.017500</td>\n",
       "      <td>0.004290</td>\n",
       "      <td>1.000000</td>\n",
       "      <td>1.000000</td>\n",
       "    </tr>\n",
       "    <tr>\n",
       "      <td>3</td>\n",
       "      <td>0.004500</td>\n",
       "      <td>0.002324</td>\n",
       "      <td>1.000000</td>\n",
       "      <td>1.000000</td>\n",
       "    </tr>\n",
       "    <tr>\n",
       "      <td>4</td>\n",
       "      <td>0.002700</td>\n",
       "      <td>0.001729</td>\n",
       "      <td>1.000000</td>\n",
       "      <td>1.000000</td>\n",
       "    </tr>\n",
       "    <tr>\n",
       "      <td>5</td>\n",
       "      <td>0.002200</td>\n",
       "      <td>0.001571</td>\n",
       "      <td>1.000000</td>\n",
       "      <td>1.000000</td>\n",
       "    </tr>\n",
       "  </tbody>\n",
       "</table><p>"
      ],
      "text/plain": [
       "<IPython.core.display.HTML object>"
      ]
     },
     "metadata": {},
     "output_type": "display_data"
    },
    {
     "name": "stdout",
     "output_type": "stream",
     "text": [
      "✅ Training complete!\n"
     ]
    }
   ],
   "source": [
    "# Initialize trainer\n",
    "trainer = Trainer(\n",
    "    model=model,\n",
    "    args=training_args,\n",
    "    train_dataset=train_dataset,\n",
    "    eval_dataset=test_dataset,\n",
    "    compute_metrics=compute_metrics,\n",
    ")\n",
    "\n",
    "print('🚀 Starting training...')\n",
    "if torch.cuda.is_available():\n",
    "    print('🎮 Training on GPU - this should be much faster!')\n",
    "else:\n",
    "    print('💻 Training on CPU - this may take a while...')\n",
    "\n",
    "# Train the model\n",
    "trainer.train()\n",
    "print('✅ Training complete!')"
   ]
  },
  {
   "cell_type": "markdown",
   "metadata": {},
   "source": [
    "## 📊 Model Evaluation"
   ]
  },
  {
   "cell_type": "code",
   "execution_count": 63,
   "metadata": {},
   "outputs": [
    {
     "name": "stdout",
     "output_type": "stream",
     "text": [
      "📊 Evaluating model...\n"
     ]
    },
    {
     "data": {
      "text/html": [],
      "text/plain": [
       "<IPython.core.display.HTML object>"
      ]
     },
     "metadata": {},
     "output_type": "display_data"
    },
    {
     "name": "stdout",
     "output_type": "stream",
     "text": [
      "\n",
      "📈 Evaluation Results:\n",
      "   eval_loss: 0.0490\n",
      "   eval_accuracy: 1.0000\n",
      "   eval_f1: 1.0000\n",
      "   eval_runtime: 5.4548\n",
      "   eval_samples_per_second: 34.8320\n",
      "   eval_steps_per_second: 4.4000\n",
      "   epoch: 5.0000\n"
     ]
    }
   ],
   "source": [
    "# Evaluate the model\n",
    "print('📊 Evaluating model...')\n",
    "results = trainer.evaluate()\n",
    "print('\\n📈 Evaluation Results:')\n",
    "for key, value in results.items():\n",
    "    print(f'   {key}: {value:.4f}')"
   ]
  },
  {
   "cell_type": "code",
   "execution_count": 64,
   "metadata": {},
   "outputs": [
    {
     "name": "stdout",
     "output_type": "stream",
     "text": [
      "🔮 Making predictions...\n",
      "\n",
      "📋 Classification Report:\n",
      "               precision    recall  f1-score   support\n",
      "\n",
      " CarBreakdown       1.00      1.00      1.00        32\n",
      "     CarCrash       1.00      1.00      1.00        32\n",
      "   CarRenewal       1.00      1.00      1.00        32\n",
      "     CarTheft       1.00      1.00      1.00        32\n",
      "CarWindshield       1.00      1.00      1.00        32\n",
      "        Other       1.00      1.00      1.00        30\n",
      "\n",
      "     accuracy                           1.00       190\n",
      "    macro avg       1.00      1.00      1.00       190\n",
      " weighted avg       1.00      1.00      1.00       190\n",
      "\n",
      "\n",
      "🔍 Confusion Matrix:\n"
     ]
    },
    {
     "data": {
      "image/png": "[encoded data removed]",
      "text/plain": [
       "<Figure size 1000x800 with 2 Axes>"
      ]
     },
     "metadata": {},
     "output_type": "display_data"
    }
   ],
   "source": [
    "# Make predictions on test set\n",
    "print('🔮 Making predictions...')\n",
    "predictions = trainer.predict(test_dataset)\n",
    "pred_labels = np.argmax(predictions.predictions, axis=1)\n",
    "\n",
    "# Classification report\n",
    "print('\\n📋 Classification Report:')\n",
    "print(classification_report(y_test, pred_labels, target_names=label_encoder.classes_))\n",
    "\n",
    "# Confusion matrix\n",
    "print('\\n🔍 Confusion Matrix:')\n",
    "cm = confusion_matrix(y_test, pred_labels)\n",
    "plt.figure(figsize=(10, 8))\n",
    "sns.heatmap(cm, annot=True, fmt='d', cmap='Blues', \n",
    "            xticklabels=label_encoder.classes_, \n",
    "            yticklabels=label_encoder.classes_)\n",
    "plt.title('Confusion Matrix')\n",
    "plt.ylabel('True Label')\n",
    "plt.xlabel('Predicted Label')\n",
    "plt.xticks(rotation=45)\n",
    "plt.yticks(rotation=0)\n",
    "plt.tight_layout()\n",
    "plt.show()"
   ]
  },
  {
   "cell_type": "markdown",
   "metadata": {},
   "source": [
    "## 💾 Save the Model"
   ]
  },
  {
   "cell_type": "code",
   "execution_count": 65,
   "metadata": {},
   "outputs": [
    {
     "name": "stdout",
     "output_type": "stream",
     "text": [
      "💾 Saving model...\n",
      "✅ Model saved to: ../streamlit_app/models/bert_email_classifier\n",
      "✅ Tokenizer saved to: ../streamlit_app/models/tokenizer\n",
      "✅ Label encoder saved to: ../streamlit_app/models/label_encoder.pkl\n",
      "✅ Results saved to: ../streamlit_app/models/training_results.json\n",
      "\n",
      "🎉 The model is ready to be used in the Streamlit app!\n"
     ]
    }
   ],
   "source": [
    "# Save the trained model and components\n",
    "print('💾 Saving model...')\n",
    "\n",
    "# Create models directory if it doesn't exist\n",
    "os.makedirs('../streamlit_app/models', exist_ok=True)\n",
    "\n",
    "# Save model\n",
    "model_path = '../streamlit_app/models/bert_email_classifier'\n",
    "trainer.save_model(model_path)\n",
    "print(f'✅ Model saved to: {model_path}')\n",
    "\n",
    "# Save tokenizer\n",
    "tokenizer_path = '../streamlit_app/models/tokenizer'\n",
    "tokenizer.save_pretrained(tokenizer_path)\n",
    "print(f'✅ Tokenizer saved to: {tokenizer_path}')\n",
    "\n",
    "# Save label encoder\n",
    "import pickle\n",
    "label_encoder_path = '../streamlit_app/models/label_encoder.pkl'\n",
    "with open(label_encoder_path, 'wb') as f:\n",
    "    pickle.dump(label_encoder, f)\n",
    "print(f'✅ Label encoder saved to: {label_encoder_path}')\n",
    "\n",
    "# Save training results\n",
    "training_results = {\n",
    "    'model_name': model_name,\n",
    "    'num_classes': num_labels,\n",
    "    'classes': label_encoder.classes_.tolist(),\n",
    "    'evaluation_results': results,\n",
    "    'training_args': training_args.to_dict()\n",
    "}\n",
    "\n",
    "results_path = '../streamlit_app/models/training_results.json'\n",
    "import json\n",
    "with open(results_path, 'w') as f:\n",
    "    json.dump(training_results, f, indent=2)\n",
    "print(f'✅ Results saved to: {results_path}')\n",
    "\n",
    "print('\\n🎉 The model is ready to be used in the Streamlit app!')"
   ]
  },
  {
   "cell_type": "markdown",
   "metadata": {},
   "source": [
    "## ui"
   ]
  },
  {
   "cell_type": "code",
   "execution_count": 72,
   "metadata": {},
   "outputs": [
    {
     "name": "stdout",
     "output_type": "stream",
     "text": [
      "🧪 Testing the model with sample emails:\n",
      "\n",
      "📧 Email 1: My car was stolen from the parking lot last night....\n",
      "🎯 Predicted: CarTheft\n",
      "📊 Confidence: 0.8981\n",
      "\n",
      "📧 Email 2: I need to renew my car insurance policy before it ...\n",
      "🎯 Predicted: CarRenewal\n",
      "📊 Confidence: 0.4187\n",
      "\n",
      "📧 Email 3: My windshield has a large crack and needs to be re...\n",
      "🎯 Predicted: CarWindshield\n",
      "📊 Confidence: 0.5545\n",
      "\n",
      "📧 Email 4: My car broke down on the highway and I need roadsi...\n",
      "🎯 Predicted: CarBreakdown\n",
      "📊 Confidence: 0.6493\n",
      "\n",
      "📧 Email 5: I was involved in a car accident and need to repor...\n",
      "🎯 Predicted: CarCrash\n",
      "📊 Confidence: 0.3094\n"
     ]
    }
   ],
   "source": [
    "# Test the model with some sample emails\n",
    "def predict_email(text):\n",
    "    \"\"\"Predict the category of an email\"\"\"\n",
    "    # Tokenize the input\n",
    "    inputs = tokenizer(\n",
    "        text, \n",
    "        return_tensors=\"pt\", \n",
    "        padding=True, \n",
    "        truncation=True, \n",
    "        max_length=256\n",
    "    )\n",
    "    \n",
    "    # Move inputs to the same device as model\n",
    "    inputs = {k: v.to(device) for k, v in inputs.items()}\n",
    "    \n",
    "    # Get prediction\n",
    "    with torch.no_grad():\n",
    "        outputs = model(**inputs)\n",
    "        predictions = torch.nn.functional.softmax(outputs.logits, dim=-1)\n",
    "        predicted_class = torch.argmax(predictions, dim=-1).item()\n",
    "        confidence = predictions[0][predicted_class].item()\n",
    "    \n",
    "    return label_encoder.classes_[predicted_class], confidence\n",
    "\n",
    "# Test with some sample emails\n",
    "test_emails = [\n",
    "    \"My car was stolen from the parking lot last night. Please help me file a claim.\",\n",
    "    \"I need to renew my car insurance policy before it expires next month.\",\n",
    "    \"My windshield has a large crack and needs to be replaced.\",\n",
    "    \"My car broke down on the highway and I need roadside assistance.\",\n",
    "    \"I was involved in a car accident and need to report it.\"\n",
    "]\n",
    "\n",
    "print(\"🧪 Testing the model with sample emails:\")\n",
    "for i, email in enumerate(test_emails, 1):\n",
    "    predicted_label, confidence = predict_email(email)\n",
    "    print(f\"\\n📧 Email {i}: {email[:50]}...\")\n",
    "    print(f\"🎯 Predicted: {predicted_label}\")\n",
    "    print(f\"📊 Confidence: {confidence:.4f}\")"
   ]
  },
  {
   "cell_type": "code",
   "execution_count": 73,
   "metadata": {},
   "outputs": [
    {
     "data": {
      "text/html": [
       "\n",
       "<style>\n",
       ".ui-container { background: linear-gradient(135deg, #667eea 0%, #764ba2 100%); \n",
       "               padding: 20px; border-radius: 15px; margin: 20px 0; color: white; }\n",
       ".ui-section { background: rgba(255,255,255,0.1); padding: 15px; border-radius: 10px; margin: 15px 0; }\n",
       ".ui-button { background: linear-gradient(45deg, #ff6b6b, #ee5a24); border: none; color: white; \n",
       "            padding: 12px 24px; border-radius: 25px; font-size: 16px; font-weight: bold; }\n",
       ".ui-result { background: rgba(255,255,255,0.95); color: #333; padding: 15px; border-radius: 10px; \n",
       "            margin: 15px 0; border-left: 5px solid #667eea; }\n",
       "</style>\n"
      ],
      "text/plain": [
       "<IPython.core.display.HTML object>"
      ]
     },
     "metadata": {},
     "output_type": "display_data"
    },
    {
     "name": "stdout",
     "output_type": "stream",
     "text": [
      "🎨 Setting up the Email Classification Dashboard...\n"
     ]
    },
    {
     "data": {
      "application/vnd.jupyter.widget-view+json": {
       "model_id": "1079c66086be43c989e10a2f55c5e5dc",
       "version_major": 2,
       "version_minor": 0
      },
      "text/plain": [
       "VBox(children=(HTML(value='<div class=\"ui-container\"><h1>📧 Email Classification Dashboard</h1></div>'), HTML(v…"
      ]
     },
     "metadata": {},
     "output_type": "display_data"
    },
    {
     "name": "stdout",
     "output_type": "stream",
     "text": [
      "✅ Dashboard loaded! Enter an email and click 'Classify Email' to test it.\n"
     ]
    }
   ],
   "source": [
    "# =============================================================================\n",
    "# SIMPLE NOTEBOOK UI - Copy this into a new cell in your notebook\n",
    "# =============================================================================\n",
    "\n",
    "# Install ipywidgets if needed:\n",
    "# !pip install ipywidgets\n",
    "\n",
    "import ipywidgets as widgets\n",
    "from IPython.display import display, HTML, clear_output\n",
    "\n",
    "# Simple styling\n",
    "display(HTML(\"\"\"\n",
    "<style>\n",
    ".ui-container { background: linear-gradient(135deg, #667eea 0%, #764ba2 100%); \n",
    "               padding: 20px; border-radius: 15px; margin: 20px 0; color: white; }\n",
    ".ui-section { background: rgba(255,255,255,0.1); padding: 15px; border-radius: 10px; margin: 15px 0; }\n",
    ".ui-button { background: linear-gradient(45deg, #ff6b6b, #ee5a24); border: none; color: white; \n",
    "            padding: 12px 24px; border-radius: 25px; font-size: 16px; font-weight: bold; }\n",
    ".ui-result { background: rgba(255,255,255,0.95); color: #333; padding: 15px; border-radius: 10px; \n",
    "            margin: 15px 0; border-left: 5px solid #667eea; }\n",
    "</style>\n",
    "\"\"\"))\n",
    "\n",
    "# Create the UI\n",
    "def create_simple_ui():\n",
    "    # Header\n",
    "    header = widgets.HTML(value='<div class=\"ui-container\"><h1>📧 Email Classification Dashboard</h1></div>')\n",
    "    \n",
    "    # Input fields\n",
    "    subject_input = widgets.Text(placeholder='Enter email subject...', description='Subject:', layout=widgets.Layout(width='100%'))\n",
    "    message_input = widgets.Textarea(placeholder='Enter email message...', description='Message:', layout=widgets.Layout(width='100%', height='100px'))\n",
    "    \n",
    "    # Classify button\n",
    "    classify_button = widgets.Button(description='🚀 Classify Email', button_style='success', layout=widgets.Layout(width='200px'))\n",
    "    \n",
    "    # Result display\n",
    "    result_output = widgets.HTML(value='<div class=\"ui-result\">Enter an email above and click \"Classify Email\" to get started!</div>')\n",
    "    \n",
    "    # Classification function\n",
    "    def on_classify_click(b):\n",
    "        subject = subject_input.value.strip()\n",
    "        message = message_input.value.strip()\n",
    "        \n",
    "        if not subject and not message:\n",
    "            result_output.value = '<div class=\"ui-result\" style=\"border-left-color: #ff6b6b;\">⚠️ Please enter either a subject or message.</div>'\n",
    "            return\n",
    "        \n",
    "        try:\n",
    "            # Combine text\n",
    "            full_text = f\"{subject} {message}\".strip()\n",
    "            \n",
    "            # Get prediction using the predict_email function from earlier in the notebook\n",
    "            predicted_label, confidence = predict_email(full_text)\n",
    "            \n",
    "            # Color code based on confidence\n",
    "            if confidence > 0.8:\n",
    "                border_color = \"#28a745\"  # Green\n",
    "            elif confidence > 0.6:\n",
    "                border_color = \"#ffc107\"  # Yellow\n",
    "            else:\n",
    "                border_color = \"#dc3545\"  # Red\n",
    "            \n",
    "            result_html = f\"\"\"\n",
    "            <div class=\"ui-result\" style=\"border-left-color: {border_color};\">\n",
    "                <h4>🎯 Classification Result</h4>\n",
    "                <p><strong>Category:</strong> <span style=\"color: {border_color}; font-weight: bold;\">{predicted_label}</span></p>\n",
    "                <p><strong>Confidence:</strong> {confidence:.1%}</p>\n",
    "                <p><strong>Input:</strong> {full_text[:100]}{'...' if len(full_text) > 100 else ''}</p>\n",
    "            </div>\n",
    "            \"\"\"\n",
    "            \n",
    "            result_output.value = result_html\n",
    "            \n",
    "        except Exception as e:\n",
    "            result_output.value = f'<div class=\"ui-result\" style=\"border-left-color: #dc3545;\">❌ Error: {str(e)}</div>'\n",
    "    \n",
    "    classify_button.on_click(on_classify_click)\n",
    "    \n",
    "    # Layout\n",
    "    ui = widgets.VBox([\n",
    "        header,\n",
    "        widgets.HTML(value='<div class=\"ui-section\"><h3>🔍 Email Classification</h3></div>'),\n",
    "        subject_input,\n",
    "        message_input,\n",
    "        classify_button,\n",
    "        result_output\n",
    "    ])\n",
    "    \n",
    "    return ui\n",
    "\n",
    "# Display the UI\n",
    "print(\"🎨 Setting up the Email Classification Dashboard...\")\n",
    "ui = create_simple_ui()\n",
    "display(ui)\n",
    "print(\"✅ Dashboard loaded! Enter an email and click 'Classify Email' to test it.\") "
   ]
  },
  {
   "cell_type": "code",
   "execution_count": null,
   "metadata": {},
   "outputs": [],
   "source": []
  },
  {
   "cell_type": "markdown",
   "metadata": {},
   "source": [
    "## find issues"
   ]
  },
  {
   "cell_type": "code",
   "execution_count": 68,
   "metadata": {},
   "outputs": [
    {
     "name": "stdout",
     "output_type": "stream",
     "text": [
      "\n",
      "Text: car stolen my car was stolen how do i claim for this theft\n",
      "Predicted: CarTheft (88.9%)\n",
      "All probabilities: ['1.5%', '2.0%', '2.1%', '88.9%', '2.6%', '2.9%']\n",
      "\n",
      "Text: my windshield is cracked and needs repair\n",
      "Predicted: CarWindshield (38.2%)\n",
      "All probabilities: ['27.5%', '8.9%', '7.6%', '6.5%', '38.2%', '11.3%']\n",
      "\n",
      "Text: car broke down on the highway\n",
      "Predicted: CarBreakdown (45.1%)\n",
      "All probabilities: ['45.1%', '33.2%', '4.6%', '7.9%', '5.6%', '3.6%']\n"
     ]
    }
   ],
   "source": [
    "\n",
    "test_texts = [\n",
    "    \"car stolen my car was stolen how do i claim for this theft\",\n",
    "    \"my windshield is cracked and needs repair\",\n",
    "    \"car broke down on the highway\"\n",
    "]\n",
    "\n",
    "for text in test_texts:\n",
    "    # Tokenize\n",
    "    inputs = tokenizer(text, return_tensors=\"pt\", padding=True, truncation=True)\n",
    "    \n",
    "    # Get predictions\n",
    "    with torch.no_grad():\n",
    "        outputs = model(**inputs)\n",
    "        probabilities = torch.softmax(outputs.logits, dim=1)\n",
    "        predicted_class = torch.argmax(probabilities, dim=1).item()\n",
    "        confidence = probabilities[0][predicted_class].item()\n",
    "    \n",
    "    print(f\"\\nText: {text}\")\n",
    "    print(f\"Predicted: {label_encoder.classes_[predicted_class]} ({confidence:.1%})\")\n",
    "    print(f\"All probabilities: {[f'{p:.1%}' for p in probabilities[0]]}\")"
   ]
  },
  {
   "cell_type": "code",
   "execution_count": 41,
   "metadata": {},
   "outputs": [
    {
     "name": "stdout",
     "output_type": "stream",
     "text": [
      "✅ Model moved to: cpu\n",
      "\n",
      "🔍 Test: car stolen my car was stolen how do i claim for this theft\n",
      "�� Predicted: CarCrash (33.3%)\n",
      "📊 All probabilities:\n",
      "   CarBreakdown: 19.0%\n",
      "   CarCrash: 33.3%\n",
      "   CarRenewal: 6.3%\n",
      "   CarTheft: 21.2%\n",
      "   CarWindshield: 12.9%\n",
      "   Other: 7.3%\n"
     ]
    }
   ],
   "source": [
    "# Force CPU mode to avoid MPS issues\n",
    "device = torch.device('cpu')\n",
    "model = model.to(device)\n",
    "tokenizer = tokenizer\n",
    "\n",
    "print(f\"✅ Model moved to: {device}\")\n",
    "\n",
    "# Now test the prediction\n",
    "test_text = \"car stolen my car was stolen how do i claim for this theft\"\n",
    "inputs = tokenizer(test_text, return_tensors=\"pt\", padding=True, truncation=True)\n",
    "\n",
    "# Move inputs to CPU\n",
    "inputs = {k: v.to(device) for k, v in inputs.items()}\n",
    "\n",
    "with torch.no_grad():\n",
    "    outputs = model(**inputs)\n",
    "    probabilities = torch.softmax(outputs.logits, dim=1)\n",
    "    predicted_class = torch.argmax(probabilities, dim=1).item()\n",
    "    confidence = probabilities[0][predicted_class].item()\n",
    "\n",
    "print(f\"\\n🔍 Test: {test_text}\")\n",
    "print(f\"�� Predicted: {label_encoder.classes_[predicted_class]} ({confidence:.1%})\")\n",
    "print(f\"📊 All probabilities:\")\n",
    "for i, prob in enumerate(probabilities[0]):\n",
    "    print(f\"   {label_encoder.classes_[i]}: {prob:.1%}\")"
   ]
  },
  {
   "cell_type": "code",
   "execution_count": 55,
   "metadata": {},
   "outputs": [
    {
     "ename": "RuntimeError",
     "evalue": "Placeholder storage has not been allocated on MPS device!",
     "output_type": "error",
     "traceback": [
      "\u001b[31m---------------------------------------------------------------------------\u001b[39m",
      "\u001b[31mRuntimeError\u001b[39m                              Traceback (most recent call last)",
      "\u001b[36mCell\u001b[39m\u001b[36m \u001b[39m\u001b[32mIn[55]\u001b[39m\u001b[32m, line 13\u001b[39m\n\u001b[32m     10\u001b[39m inputs = tokenizer(text, return_tensors=\u001b[33m\"\u001b[39m\u001b[33mpt\u001b[39m\u001b[33m\"\u001b[39m, padding=\u001b[38;5;28;01mTrue\u001b[39;00m, truncation=\u001b[38;5;28;01mTrue\u001b[39;00m)\n\u001b[32m     12\u001b[39m \u001b[38;5;28;01mwith\u001b[39;00m torch.no_grad():\n\u001b[32m---> \u001b[39m\u001b[32m13\u001b[39m     outputs = \u001b[43mmodel\u001b[49m\u001b[43m(\u001b[49m\u001b[43m*\u001b[49m\u001b[43m*\u001b[49m\u001b[43minputs\u001b[49m\u001b[43m)\u001b[49m\n\u001b[32m     14\u001b[39m     probabilities = torch.softmax(outputs.logits, dim=\u001b[32m1\u001b[39m)\n\u001b[32m     15\u001b[39m     predicted_class = torch.argmax(probabilities, dim=\u001b[32m1\u001b[39m).item()\n",
      "\u001b[36mFile \u001b[39m\u001b[32m~/Documents/emailClassify/venv/lib/python3.13/site-packages/torch/nn/modules/module.py:1751\u001b[39m, in \u001b[36mModule._wrapped_call_impl\u001b[39m\u001b[34m(self, *args, **kwargs)\u001b[39m\n\u001b[32m   1749\u001b[39m     \u001b[38;5;28;01mreturn\u001b[39;00m \u001b[38;5;28mself\u001b[39m._compiled_call_impl(*args, **kwargs)  \u001b[38;5;66;03m# type: ignore[misc]\u001b[39;00m\n\u001b[32m   1750\u001b[39m \u001b[38;5;28;01melse\u001b[39;00m:\n\u001b[32m-> \u001b[39m\u001b[32m1751\u001b[39m     \u001b[38;5;28;01mreturn\u001b[39;00m \u001b[38;5;28;43mself\u001b[39;49m\u001b[43m.\u001b[49m\u001b[43m_call_impl\u001b[49m\u001b[43m(\u001b[49m\u001b[43m*\u001b[49m\u001b[43margs\u001b[49m\u001b[43m,\u001b[49m\u001b[43m \u001b[49m\u001b[43m*\u001b[49m\u001b[43m*\u001b[49m\u001b[43mkwargs\u001b[49m\u001b[43m)\u001b[49m\n",
      "\u001b[36mFile \u001b[39m\u001b[32m~/Documents/emailClassify/venv/lib/python3.13/site-packages/torch/nn/modules/module.py:1762\u001b[39m, in \u001b[36mModule._call_impl\u001b[39m\u001b[34m(self, *args, **kwargs)\u001b[39m\n\u001b[32m   1757\u001b[39m \u001b[38;5;66;03m# If we don't have any hooks, we want to skip the rest of the logic in\u001b[39;00m\n\u001b[32m   1758\u001b[39m \u001b[38;5;66;03m# this function, and just call forward.\u001b[39;00m\n\u001b[32m   1759\u001b[39m \u001b[38;5;28;01mif\u001b[39;00m \u001b[38;5;129;01mnot\u001b[39;00m (\u001b[38;5;28mself\u001b[39m._backward_hooks \u001b[38;5;129;01mor\u001b[39;00m \u001b[38;5;28mself\u001b[39m._backward_pre_hooks \u001b[38;5;129;01mor\u001b[39;00m \u001b[38;5;28mself\u001b[39m._forward_hooks \u001b[38;5;129;01mor\u001b[39;00m \u001b[38;5;28mself\u001b[39m._forward_pre_hooks\n\u001b[32m   1760\u001b[39m         \u001b[38;5;129;01mor\u001b[39;00m _global_backward_pre_hooks \u001b[38;5;129;01mor\u001b[39;00m _global_backward_hooks\n\u001b[32m   1761\u001b[39m         \u001b[38;5;129;01mor\u001b[39;00m _global_forward_hooks \u001b[38;5;129;01mor\u001b[39;00m _global_forward_pre_hooks):\n\u001b[32m-> \u001b[39m\u001b[32m1762\u001b[39m     \u001b[38;5;28;01mreturn\u001b[39;00m \u001b[43mforward_call\u001b[49m\u001b[43m(\u001b[49m\u001b[43m*\u001b[49m\u001b[43margs\u001b[49m\u001b[43m,\u001b[49m\u001b[43m \u001b[49m\u001b[43m*\u001b[49m\u001b[43m*\u001b[49m\u001b[43mkwargs\u001b[49m\u001b[43m)\u001b[49m\n\u001b[32m   1764\u001b[39m result = \u001b[38;5;28;01mNone\u001b[39;00m\n\u001b[32m   1765\u001b[39m called_always_called_hooks = \u001b[38;5;28mset\u001b[39m()\n",
      "\u001b[36mFile \u001b[39m\u001b[32m~/Documents/emailClassify/venv/lib/python3.13/site-packages/transformers/models/distilbert/modeling_distilbert.py:917\u001b[39m, in \u001b[36mDistilBertForSequenceClassification.forward\u001b[39m\u001b[34m(self, input_ids, attention_mask, head_mask, inputs_embeds, labels, output_attentions, output_hidden_states, return_dict)\u001b[39m\n\u001b[32m    909\u001b[39m \u001b[38;5;250m\u001b[39m\u001b[33mr\u001b[39m\u001b[33;03m\"\"\"\u001b[39;00m\n\u001b[32m    910\u001b[39m \u001b[33;03mlabels (`torch.LongTensor` of shape `(batch_size,)`, *optional*):\u001b[39;00m\n\u001b[32m    911\u001b[39m \u001b[33;03m    Labels for computing the sequence classification/regression loss. Indices should be in `[0, ...,\u001b[39;00m\n\u001b[32m    912\u001b[39m \u001b[33;03m    config.num_labels - 1]`. If `config.num_labels == 1` a regression loss is computed (Mean-Square loss), If\u001b[39;00m\n\u001b[32m    913\u001b[39m \u001b[33;03m    `config.num_labels > 1` a classification loss is computed (Cross-Entropy).\u001b[39;00m\n\u001b[32m    914\u001b[39m \u001b[33;03m\"\"\"\u001b[39;00m\n\u001b[32m    915\u001b[39m return_dict = return_dict \u001b[38;5;28;01mif\u001b[39;00m return_dict \u001b[38;5;129;01mis\u001b[39;00m \u001b[38;5;129;01mnot\u001b[39;00m \u001b[38;5;28;01mNone\u001b[39;00m \u001b[38;5;28;01melse\u001b[39;00m \u001b[38;5;28mself\u001b[39m.config.use_return_dict\n\u001b[32m--> \u001b[39m\u001b[32m917\u001b[39m distilbert_output = \u001b[38;5;28;43mself\u001b[39;49m\u001b[43m.\u001b[49m\u001b[43mdistilbert\u001b[49m\u001b[43m(\u001b[49m\n\u001b[32m    918\u001b[39m \u001b[43m    \u001b[49m\u001b[43minput_ids\u001b[49m\u001b[43m=\u001b[49m\u001b[43minput_ids\u001b[49m\u001b[43m,\u001b[49m\n\u001b[32m    919\u001b[39m \u001b[43m    \u001b[49m\u001b[43mattention_mask\u001b[49m\u001b[43m=\u001b[49m\u001b[43mattention_mask\u001b[49m\u001b[43m,\u001b[49m\n\u001b[32m    920\u001b[39m \u001b[43m    \u001b[49m\u001b[43mhead_mask\u001b[49m\u001b[43m=\u001b[49m\u001b[43mhead_mask\u001b[49m\u001b[43m,\u001b[49m\n\u001b[32m    921\u001b[39m \u001b[43m    \u001b[49m\u001b[43minputs_embeds\u001b[49m\u001b[43m=\u001b[49m\u001b[43minputs_embeds\u001b[49m\u001b[43m,\u001b[49m\n\u001b[32m    922\u001b[39m \u001b[43m    \u001b[49m\u001b[43moutput_attentions\u001b[49m\u001b[43m=\u001b[49m\u001b[43moutput_attentions\u001b[49m\u001b[43m,\u001b[49m\n\u001b[32m    923\u001b[39m \u001b[43m    \u001b[49m\u001b[43moutput_hidden_states\u001b[49m\u001b[43m=\u001b[49m\u001b[43moutput_hidden_states\u001b[49m\u001b[43m,\u001b[49m\n\u001b[32m    924\u001b[39m \u001b[43m    \u001b[49m\u001b[43mreturn_dict\u001b[49m\u001b[43m=\u001b[49m\u001b[43mreturn_dict\u001b[49m\u001b[43m,\u001b[49m\n\u001b[32m    925\u001b[39m \u001b[43m\u001b[49m\u001b[43m)\u001b[49m\n\u001b[32m    926\u001b[39m hidden_state = distilbert_output[\u001b[32m0\u001b[39m]  \u001b[38;5;66;03m# (bs, seq_len, dim)\u001b[39;00m\n\u001b[32m    927\u001b[39m pooled_output = hidden_state[:, \u001b[32m0\u001b[39m]  \u001b[38;5;66;03m# (bs, dim)\u001b[39;00m\n",
      "\u001b[36mFile \u001b[39m\u001b[32m~/Documents/emailClassify/venv/lib/python3.13/site-packages/torch/nn/modules/module.py:1751\u001b[39m, in \u001b[36mModule._wrapped_call_impl\u001b[39m\u001b[34m(self, *args, **kwargs)\u001b[39m\n\u001b[32m   1749\u001b[39m     \u001b[38;5;28;01mreturn\u001b[39;00m \u001b[38;5;28mself\u001b[39m._compiled_call_impl(*args, **kwargs)  \u001b[38;5;66;03m# type: ignore[misc]\u001b[39;00m\n\u001b[32m   1750\u001b[39m \u001b[38;5;28;01melse\u001b[39;00m:\n\u001b[32m-> \u001b[39m\u001b[32m1751\u001b[39m     \u001b[38;5;28;01mreturn\u001b[39;00m \u001b[38;5;28;43mself\u001b[39;49m\u001b[43m.\u001b[49m\u001b[43m_call_impl\u001b[49m\u001b[43m(\u001b[49m\u001b[43m*\u001b[49m\u001b[43margs\u001b[49m\u001b[43m,\u001b[49m\u001b[43m \u001b[49m\u001b[43m*\u001b[49m\u001b[43m*\u001b[49m\u001b[43mkwargs\u001b[49m\u001b[43m)\u001b[49m\n",
      "\u001b[36mFile \u001b[39m\u001b[32m~/Documents/emailClassify/venv/lib/python3.13/site-packages/torch/nn/modules/module.py:1762\u001b[39m, in \u001b[36mModule._call_impl\u001b[39m\u001b[34m(self, *args, **kwargs)\u001b[39m\n\u001b[32m   1757\u001b[39m \u001b[38;5;66;03m# If we don't have any hooks, we want to skip the rest of the logic in\u001b[39;00m\n\u001b[32m   1758\u001b[39m \u001b[38;5;66;03m# this function, and just call forward.\u001b[39;00m\n\u001b[32m   1759\u001b[39m \u001b[38;5;28;01mif\u001b[39;00m \u001b[38;5;129;01mnot\u001b[39;00m (\u001b[38;5;28mself\u001b[39m._backward_hooks \u001b[38;5;129;01mor\u001b[39;00m \u001b[38;5;28mself\u001b[39m._backward_pre_hooks \u001b[38;5;129;01mor\u001b[39;00m \u001b[38;5;28mself\u001b[39m._forward_hooks \u001b[38;5;129;01mor\u001b[39;00m \u001b[38;5;28mself\u001b[39m._forward_pre_hooks\n\u001b[32m   1760\u001b[39m         \u001b[38;5;129;01mor\u001b[39;00m _global_backward_pre_hooks \u001b[38;5;129;01mor\u001b[39;00m _global_backward_hooks\n\u001b[32m   1761\u001b[39m         \u001b[38;5;129;01mor\u001b[39;00m _global_forward_hooks \u001b[38;5;129;01mor\u001b[39;00m _global_forward_pre_hooks):\n\u001b[32m-> \u001b[39m\u001b[32m1762\u001b[39m     \u001b[38;5;28;01mreturn\u001b[39;00m \u001b[43mforward_call\u001b[49m\u001b[43m(\u001b[49m\u001b[43m*\u001b[49m\u001b[43margs\u001b[49m\u001b[43m,\u001b[49m\u001b[43m \u001b[49m\u001b[43m*\u001b[49m\u001b[43m*\u001b[49m\u001b[43mkwargs\u001b[49m\u001b[43m)\u001b[49m\n\u001b[32m   1764\u001b[39m result = \u001b[38;5;28;01mNone\u001b[39;00m\n\u001b[32m   1765\u001b[39m called_always_called_hooks = \u001b[38;5;28mset\u001b[39m()\n",
      "\u001b[36mFile \u001b[39m\u001b[32m~/Documents/emailClassify/venv/lib/python3.13/site-packages/transformers/models/distilbert/modeling_distilbert.py:723\u001b[39m, in \u001b[36mDistilBertModel.forward\u001b[39m\u001b[34m(self, input_ids, attention_mask, head_mask, inputs_embeds, output_attentions, output_hidden_states, return_dict)\u001b[39m\n\u001b[32m    720\u001b[39m \u001b[38;5;66;03m# Prepare head mask if needed\u001b[39;00m\n\u001b[32m    721\u001b[39m head_mask = \u001b[38;5;28mself\u001b[39m.get_head_mask(head_mask, \u001b[38;5;28mself\u001b[39m.config.num_hidden_layers)\n\u001b[32m--> \u001b[39m\u001b[32m723\u001b[39m embeddings = \u001b[38;5;28;43mself\u001b[39;49m\u001b[43m.\u001b[49m\u001b[43membeddings\u001b[49m\u001b[43m(\u001b[49m\u001b[43minput_ids\u001b[49m\u001b[43m,\u001b[49m\u001b[43m \u001b[49m\u001b[43minputs_embeds\u001b[49m\u001b[43m)\u001b[49m  \u001b[38;5;66;03m# (bs, seq_length, dim)\u001b[39;00m\n\u001b[32m    725\u001b[39m \u001b[38;5;28;01mif\u001b[39;00m \u001b[38;5;28mself\u001b[39m._use_flash_attention_2:\n\u001b[32m    726\u001b[39m     attention_mask = attention_mask \u001b[38;5;28;01mif\u001b[39;00m (attention_mask \u001b[38;5;129;01mis\u001b[39;00m \u001b[38;5;129;01mnot\u001b[39;00m \u001b[38;5;28;01mNone\u001b[39;00m \u001b[38;5;129;01mand\u001b[39;00m \u001b[32m0\u001b[39m \u001b[38;5;129;01min\u001b[39;00m attention_mask) \u001b[38;5;28;01melse\u001b[39;00m \u001b[38;5;28;01mNone\u001b[39;00m\n",
      "\u001b[36mFile \u001b[39m\u001b[32m~/Documents/emailClassify/venv/lib/python3.13/site-packages/torch/nn/modules/module.py:1751\u001b[39m, in \u001b[36mModule._wrapped_call_impl\u001b[39m\u001b[34m(self, *args, **kwargs)\u001b[39m\n\u001b[32m   1749\u001b[39m     \u001b[38;5;28;01mreturn\u001b[39;00m \u001b[38;5;28mself\u001b[39m._compiled_call_impl(*args, **kwargs)  \u001b[38;5;66;03m# type: ignore[misc]\u001b[39;00m\n\u001b[32m   1750\u001b[39m \u001b[38;5;28;01melse\u001b[39;00m:\n\u001b[32m-> \u001b[39m\u001b[32m1751\u001b[39m     \u001b[38;5;28;01mreturn\u001b[39;00m \u001b[38;5;28;43mself\u001b[39;49m\u001b[43m.\u001b[49m\u001b[43m_call_impl\u001b[49m\u001b[43m(\u001b[49m\u001b[43m*\u001b[49m\u001b[43margs\u001b[49m\u001b[43m,\u001b[49m\u001b[43m \u001b[49m\u001b[43m*\u001b[49m\u001b[43m*\u001b[49m\u001b[43mkwargs\u001b[49m\u001b[43m)\u001b[49m\n",
      "\u001b[36mFile \u001b[39m\u001b[32m~/Documents/emailClassify/venv/lib/python3.13/site-packages/torch/nn/modules/module.py:1762\u001b[39m, in \u001b[36mModule._call_impl\u001b[39m\u001b[34m(self, *args, **kwargs)\u001b[39m\n\u001b[32m   1757\u001b[39m \u001b[38;5;66;03m# If we don't have any hooks, we want to skip the rest of the logic in\u001b[39;00m\n\u001b[32m   1758\u001b[39m \u001b[38;5;66;03m# this function, and just call forward.\u001b[39;00m\n\u001b[32m   1759\u001b[39m \u001b[38;5;28;01mif\u001b[39;00m \u001b[38;5;129;01mnot\u001b[39;00m (\u001b[38;5;28mself\u001b[39m._backward_hooks \u001b[38;5;129;01mor\u001b[39;00m \u001b[38;5;28mself\u001b[39m._backward_pre_hooks \u001b[38;5;129;01mor\u001b[39;00m \u001b[38;5;28mself\u001b[39m._forward_hooks \u001b[38;5;129;01mor\u001b[39;00m \u001b[38;5;28mself\u001b[39m._forward_pre_hooks\n\u001b[32m   1760\u001b[39m         \u001b[38;5;129;01mor\u001b[39;00m _global_backward_pre_hooks \u001b[38;5;129;01mor\u001b[39;00m _global_backward_hooks\n\u001b[32m   1761\u001b[39m         \u001b[38;5;129;01mor\u001b[39;00m _global_forward_hooks \u001b[38;5;129;01mor\u001b[39;00m _global_forward_pre_hooks):\n\u001b[32m-> \u001b[39m\u001b[32m1762\u001b[39m     \u001b[38;5;28;01mreturn\u001b[39;00m \u001b[43mforward_call\u001b[49m\u001b[43m(\u001b[49m\u001b[43m*\u001b[49m\u001b[43margs\u001b[49m\u001b[43m,\u001b[49m\u001b[43m \u001b[49m\u001b[43m*\u001b[49m\u001b[43m*\u001b[49m\u001b[43mkwargs\u001b[49m\u001b[43m)\u001b[49m\n\u001b[32m   1764\u001b[39m result = \u001b[38;5;28;01mNone\u001b[39;00m\n\u001b[32m   1765\u001b[39m called_always_called_hooks = \u001b[38;5;28mset\u001b[39m()\n",
      "\u001b[36mFile \u001b[39m\u001b[32m~/Documents/emailClassify/venv/lib/python3.13/site-packages/transformers/models/distilbert/modeling_distilbert.py:111\u001b[39m, in \u001b[36mEmbeddings.forward\u001b[39m\u001b[34m(self, input_ids, input_embeds)\u001b[39m\n\u001b[32m     99\u001b[39m \u001b[38;5;250m\u001b[39m\u001b[33;03m\"\"\"\u001b[39;00m\n\u001b[32m    100\u001b[39m \u001b[33;03mParameters:\u001b[39;00m\n\u001b[32m    101\u001b[39m \u001b[33;03m    input_ids (torch.Tensor):\u001b[39;00m\n\u001b[32m   (...)\u001b[39m\u001b[32m    108\u001b[39m \u001b[33;03membeddings)\u001b[39;00m\n\u001b[32m    109\u001b[39m \u001b[33;03m\"\"\"\u001b[39;00m\n\u001b[32m    110\u001b[39m \u001b[38;5;28;01mif\u001b[39;00m input_ids \u001b[38;5;129;01mis\u001b[39;00m \u001b[38;5;129;01mnot\u001b[39;00m \u001b[38;5;28;01mNone\u001b[39;00m:\n\u001b[32m--> \u001b[39m\u001b[32m111\u001b[39m     input_embeds = \u001b[38;5;28;43mself\u001b[39;49m\u001b[43m.\u001b[49m\u001b[43mword_embeddings\u001b[49m\u001b[43m(\u001b[49m\u001b[43minput_ids\u001b[49m\u001b[43m)\u001b[49m  \u001b[38;5;66;03m# (bs, max_seq_length, dim)\u001b[39;00m\n\u001b[32m    113\u001b[39m seq_length = input_embeds.size(\u001b[32m1\u001b[39m)\n\u001b[32m    115\u001b[39m \u001b[38;5;66;03m# Setting the position-ids to the registered buffer in constructor, it helps\u001b[39;00m\n\u001b[32m    116\u001b[39m \u001b[38;5;66;03m# when tracing the model without passing position-ids, solves\u001b[39;00m\n\u001b[32m    117\u001b[39m \u001b[38;5;66;03m# issues similar to issue #5664\u001b[39;00m\n",
      "\u001b[36mFile \u001b[39m\u001b[32m~/Documents/emailClassify/venv/lib/python3.13/site-packages/torch/nn/modules/module.py:1751\u001b[39m, in \u001b[36mModule._wrapped_call_impl\u001b[39m\u001b[34m(self, *args, **kwargs)\u001b[39m\n\u001b[32m   1749\u001b[39m     \u001b[38;5;28;01mreturn\u001b[39;00m \u001b[38;5;28mself\u001b[39m._compiled_call_impl(*args, **kwargs)  \u001b[38;5;66;03m# type: ignore[misc]\u001b[39;00m\n\u001b[32m   1750\u001b[39m \u001b[38;5;28;01melse\u001b[39;00m:\n\u001b[32m-> \u001b[39m\u001b[32m1751\u001b[39m     \u001b[38;5;28;01mreturn\u001b[39;00m \u001b[38;5;28;43mself\u001b[39;49m\u001b[43m.\u001b[49m\u001b[43m_call_impl\u001b[49m\u001b[43m(\u001b[49m\u001b[43m*\u001b[49m\u001b[43margs\u001b[49m\u001b[43m,\u001b[49m\u001b[43m \u001b[49m\u001b[43m*\u001b[49m\u001b[43m*\u001b[49m\u001b[43mkwargs\u001b[49m\u001b[43m)\u001b[49m\n",
      "\u001b[36mFile \u001b[39m\u001b[32m~/Documents/emailClassify/venv/lib/python3.13/site-packages/torch/nn/modules/module.py:1762\u001b[39m, in \u001b[36mModule._call_impl\u001b[39m\u001b[34m(self, *args, **kwargs)\u001b[39m\n\u001b[32m   1757\u001b[39m \u001b[38;5;66;03m# If we don't have any hooks, we want to skip the rest of the logic in\u001b[39;00m\n\u001b[32m   1758\u001b[39m \u001b[38;5;66;03m# this function, and just call forward.\u001b[39;00m\n\u001b[32m   1759\u001b[39m \u001b[38;5;28;01mif\u001b[39;00m \u001b[38;5;129;01mnot\u001b[39;00m (\u001b[38;5;28mself\u001b[39m._backward_hooks \u001b[38;5;129;01mor\u001b[39;00m \u001b[38;5;28mself\u001b[39m._backward_pre_hooks \u001b[38;5;129;01mor\u001b[39;00m \u001b[38;5;28mself\u001b[39m._forward_hooks \u001b[38;5;129;01mor\u001b[39;00m \u001b[38;5;28mself\u001b[39m._forward_pre_hooks\n\u001b[32m   1760\u001b[39m         \u001b[38;5;129;01mor\u001b[39;00m _global_backward_pre_hooks \u001b[38;5;129;01mor\u001b[39;00m _global_backward_hooks\n\u001b[32m   1761\u001b[39m         \u001b[38;5;129;01mor\u001b[39;00m _global_forward_hooks \u001b[38;5;129;01mor\u001b[39;00m _global_forward_pre_hooks):\n\u001b[32m-> \u001b[39m\u001b[32m1762\u001b[39m     \u001b[38;5;28;01mreturn\u001b[39;00m \u001b[43mforward_call\u001b[49m\u001b[43m(\u001b[49m\u001b[43m*\u001b[49m\u001b[43margs\u001b[49m\u001b[43m,\u001b[49m\u001b[43m \u001b[49m\u001b[43m*\u001b[49m\u001b[43m*\u001b[49m\u001b[43mkwargs\u001b[49m\u001b[43m)\u001b[49m\n\u001b[32m   1764\u001b[39m result = \u001b[38;5;28;01mNone\u001b[39;00m\n\u001b[32m   1765\u001b[39m called_always_called_hooks = \u001b[38;5;28mset\u001b[39m()\n",
      "\u001b[36mFile \u001b[39m\u001b[32m~/Documents/emailClassify/venv/lib/python3.13/site-packages/torch/nn/modules/sparse.py:190\u001b[39m, in \u001b[36mEmbedding.forward\u001b[39m\u001b[34m(self, input)\u001b[39m\n\u001b[32m    189\u001b[39m \u001b[38;5;28;01mdef\u001b[39;00m\u001b[38;5;250m \u001b[39m\u001b[34mforward\u001b[39m(\u001b[38;5;28mself\u001b[39m, \u001b[38;5;28minput\u001b[39m: Tensor) -> Tensor:\n\u001b[32m--> \u001b[39m\u001b[32m190\u001b[39m     \u001b[38;5;28;01mreturn\u001b[39;00m \u001b[43mF\u001b[49m\u001b[43m.\u001b[49m\u001b[43membedding\u001b[49m\u001b[43m(\u001b[49m\n\u001b[32m    191\u001b[39m \u001b[43m        \u001b[49m\u001b[38;5;28;43minput\u001b[39;49m\u001b[43m,\u001b[49m\n\u001b[32m    192\u001b[39m \u001b[43m        \u001b[49m\u001b[38;5;28;43mself\u001b[39;49m\u001b[43m.\u001b[49m\u001b[43mweight\u001b[49m\u001b[43m,\u001b[49m\n\u001b[32m    193\u001b[39m \u001b[43m        \u001b[49m\u001b[38;5;28;43mself\u001b[39;49m\u001b[43m.\u001b[49m\u001b[43mpadding_idx\u001b[49m\u001b[43m,\u001b[49m\n\u001b[32m    194\u001b[39m \u001b[43m        \u001b[49m\u001b[38;5;28;43mself\u001b[39;49m\u001b[43m.\u001b[49m\u001b[43mmax_norm\u001b[49m\u001b[43m,\u001b[49m\n\u001b[32m    195\u001b[39m \u001b[43m        \u001b[49m\u001b[38;5;28;43mself\u001b[39;49m\u001b[43m.\u001b[49m\u001b[43mnorm_type\u001b[49m\u001b[43m,\u001b[49m\n\u001b[32m    196\u001b[39m \u001b[43m        \u001b[49m\u001b[38;5;28;43mself\u001b[39;49m\u001b[43m.\u001b[49m\u001b[43mscale_grad_by_freq\u001b[49m\u001b[43m,\u001b[49m\n\u001b[32m    197\u001b[39m \u001b[43m        \u001b[49m\u001b[38;5;28;43mself\u001b[39;49m\u001b[43m.\u001b[49m\u001b[43msparse\u001b[49m\u001b[43m,\u001b[49m\n\u001b[32m    198\u001b[39m \u001b[43m    \u001b[49m\u001b[43m)\u001b[49m\n",
      "\u001b[36mFile \u001b[39m\u001b[32m~/Documents/emailClassify/venv/lib/python3.13/site-packages/torch/nn/functional.py:2551\u001b[39m, in \u001b[36membedding\u001b[39m\u001b[34m(input, weight, padding_idx, max_norm, norm_type, scale_grad_by_freq, sparse)\u001b[39m\n\u001b[32m   2545\u001b[39m     \u001b[38;5;66;03m# Note [embedding_renorm set_grad_enabled]\u001b[39;00m\n\u001b[32m   2546\u001b[39m     \u001b[38;5;66;03m# XXX: equivalent to\u001b[39;00m\n\u001b[32m   2547\u001b[39m     \u001b[38;5;66;03m# with torch.no_grad():\u001b[39;00m\n\u001b[32m   2548\u001b[39m     \u001b[38;5;66;03m#   torch.embedding_renorm_\u001b[39;00m\n\u001b[32m   2549\u001b[39m     \u001b[38;5;66;03m# remove once script supports set_grad_enabled\u001b[39;00m\n\u001b[32m   2550\u001b[39m     _no_grad_embedding_renorm_(weight, \u001b[38;5;28minput\u001b[39m, max_norm, norm_type)\n\u001b[32m-> \u001b[39m\u001b[32m2551\u001b[39m \u001b[38;5;28;01mreturn\u001b[39;00m \u001b[43mtorch\u001b[49m\u001b[43m.\u001b[49m\u001b[43membedding\u001b[49m\u001b[43m(\u001b[49m\u001b[43mweight\u001b[49m\u001b[43m,\u001b[49m\u001b[43m \u001b[49m\u001b[38;5;28;43minput\u001b[39;49m\u001b[43m,\u001b[49m\u001b[43m \u001b[49m\u001b[43mpadding_idx\u001b[49m\u001b[43m,\u001b[49m\u001b[43m \u001b[49m\u001b[43mscale_grad_by_freq\u001b[49m\u001b[43m,\u001b[49m\u001b[43m \u001b[49m\u001b[43msparse\u001b[49m\u001b[43m)\u001b[49m\n",
      "\u001b[31mRuntimeError\u001b[39m: Placeholder storage has not been allocated on MPS device!"
     ]
    }
   ],
   "source": [
    "test_cases = [\n",
    "    \"my car was stolen from the parking lot\",\n",
    "    \"windshield cracked and needs repair\", \n",
    "    \"car broke down on highway\",\n",
    "    \"need to renew car insurance\",\n",
    "    \"car accident damage claim\"\n",
    "]\n",
    "\n",
    "for text in test_cases:\n",
    "    inputs = tokenizer(text, return_tensors=\"pt\", padding=True, truncation=True)\n",
    "    \n",
    "    with torch.no_grad():\n",
    "        outputs = model(**inputs)\n",
    "        probabilities = torch.softmax(outputs.logits, dim=1)\n",
    "        predicted_class = torch.argmax(probabilities, dim=1).item()\n",
    "        confidence = probabilities[0][predicted_class].item()\n",
    "    \n",
    "    print(f\"\\n�� Test: {text}\")\n",
    "    print(f\"�� Predicted: {label_encoder.classes_[predicted_class]} ({confidence:.1%})\")\n",
    "    \n",
    "    # Show top 2 predictions\n",
    "    top_probs, top_indices = torch.topk(probabilities[0], 2)\n",
    "    for i, (prob, idx) in enumerate(zip(top_probs, top_indices)):\n",
    "        print(f\"   {i+1}. {label_encoder.classes_[idx]}: {prob:.1%}\")"
   ]
  },
  {
   "cell_type": "code",
   "execution_count": 66,
   "metadata": {},
   "outputs": [
    {
     "name": "stdout",
     "output_type": "stream",
     "text": [
      "✅ Model moved to: cpu\n",
      "\n",
      "🔍 Test: my car was stolen from the parking lot\n",
      "�� Predicted: CarTheft (79.1%)\n",
      "📊 All probabilities:\n",
      "   CarBreakdown: 4.4%\n",
      "   CarCrash: 4.7%\n",
      "   CarRenewal: 2.6%\n",
      "   CarTheft: 79.1%\n",
      "   CarWindshield: 5.0%\n",
      "   Other: 4.1%\n"
     ]
    }
   ],
   "source": [
    "# Force CPU mode again to avoid MPS issues\n",
    "device = torch.device('cpu')\n",
    "model = model.to(device)\n",
    "\n",
    "print(f\"✅ Model moved to: {device}\")\n",
    "\n",
    "# Now test the prediction\n",
    "test_text = \"my car was stolen from the parking lot\"\n",
    "inputs = tokenizer(test_text, return_tensors=\"pt\", padding=True, truncation=True)\n",
    "\n",
    "# Move inputs to CPU\n",
    "inputs = {k: v.to(device) for k, v in inputs.items()}\n",
    "\n",
    "with torch.no_grad():\n",
    "    outputs = model(**inputs)\n",
    "    probabilities = torch.softmax(outputs.logits, dim=1)\n",
    "    predicted_class = torch.argmax(probabilities, dim=1).item()\n",
    "    confidence = probabilities[0][predicted_class].item()\n",
    "\n",
    "print(f\"\\n🔍 Test: {test_text}\")\n",
    "print(f\"�� Predicted: {label_encoder.classes_[predicted_class]} ({confidence:.1%})\")\n",
    "print(f\"📊 All probabilities:\")\n",
    "for i, prob in enumerate(probabilities[0]):\n",
    "    print(f\"   {label_encoder.classes_[i]}: {prob:.1%}\")"
   ]
  },
  {
   "cell_type": "code",
   "execution_count": 67,
   "metadata": {},
   "outputs": [
    {
     "name": "stdout",
     "output_type": "stream",
     "text": [
      "\n",
      "�� Test: windshield cracked and needs repair\n",
      "�� Predicted: CarWindshield (57.4%)\n",
      "   1. CarWindshield: 57.4%\n",
      "   2. CarBreakdown: 13.5%\n",
      "\n",
      "�� Test: car broke down on highway\n",
      "�� Predicted: CarBreakdown (43.5%)\n",
      "   1. CarBreakdown: 43.5%\n",
      "   2. CarCrash: 37.7%\n",
      "\n",
      "�� Test: need to renew car insurance\n",
      "�� Predicted: CarRenewal (53.8%)\n",
      "   1. CarRenewal: 53.8%\n",
      "   2. Other: 25.9%\n",
      "\n",
      "�� Test: car accident damage claim\n",
      "�� Predicted: CarCrash (87.4%)\n",
      "   1. CarCrash: 87.4%\n",
      "   2. CarTheft: 5.5%\n"
     ]
    }
   ],
   "source": [
    "# Test all categories to see the improvements\n",
    "test_cases = [\n",
    "    \"windshield cracked and needs repair\",\n",
    "    \"car broke down on highway\", \n",
    "    \"need to renew car insurance\",\n",
    "    \"car accident damage claim\"\n",
    "]\n",
    "\n",
    "for text in test_cases:\n",
    "    inputs = tokenizer(text, return_tensors=\"pt\", padding=True, truncation=True)\n",
    "    \n",
    "    with torch.no_grad():\n",
    "        outputs = model(**inputs)\n",
    "        probabilities = torch.softmax(outputs.logits, dim=1)\n",
    "        predicted_class = torch.argmax(probabilities, dim=1).item()\n",
    "        confidence = probabilities[0][predicted_class].item()\n",
    "    \n",
    "    print(f\"\\n�� Test: {text}\")\n",
    "    print(f\"�� Predicted: {label_encoder.classes_[predicted_class]} ({confidence:.1%})\")\n",
    "    \n",
    "    # Show top 2 predictions\n",
    "    top_probs, top_indices = torch.topk(probabilities[0], 2)\n",
    "    for i, (prob, idx) in enumerate(zip(top_probs, top_indices)):\n",
    "        print(f\"   {i+1}. {label_encoder.classes_[idx]}: {prob:.1%}\")"
   ]
  },
  {
   "cell_type": "markdown",
   "metadata": {},
   "source": [
    "## llm version"
   ]
  },
  {
   "cell_type": "code",
   "execution_count": 6,
   "metadata": {},
   "outputs": [
    {
     "name": "stderr",
     "output_type": "stream",
     "text": [
      "Device set to use mps\n"
     ]
    },
    {
     "name": "stdout",
     "output_type": "stream",
     "text": [
      "<|system|>\n",
      "You are a friendly chatbot who always responds in the style of a pirate</s>\n",
      "<|user|>\n",
      "How many helicopters can a human eat in one sitting?</s>\n",
      "<|assistant|>\n",
      "Unfortunately, there is no scientific evidence to support this claim. It is purely anecdotal and not backed by any credible sources. While humans can consume large amounts of food, the consumption of helicopters is not a recommended practice as it could lead to digestive issues, allergic reactions, and even death. It is recommended to avoid consuming large amounts of helicopters in one sitting, as it can lead to health concerns.\n"
     ]
    }
   ],
   "source": [
    "# Install transformers from source - only needed for versions <= v4.34\n",
    "# pip install git+https://github.com/huggingface/transformers.git\n",
    "# pip install accelerate\n",
    "\n",
    "import torch\n",
    "from transformers import pipeline\n",
    "\n",
    "pipe = pipeline(\"text-generation\", model=\"TinyLlama/TinyLlama-1.1B-Chat-v1.0\", torch_dtype=torch.bfloat16, device_map=\"auto\")\n",
    "\n",
    "# We use the tokenizer's chat template to format each message - see https://huggingface.co/docs/transformers/main/en/chat_templating\n",
    "messages = [\n",
    "    {\n",
    "        \"role\": \"system\",\n",
    "        \"content\": \"You are a friendly chatbot who always responds in the style of a pirate\",\n",
    "    },\n",
    "    {\"role\": \"user\", \"content\": \"How many helicopters can a human eat in one sitting?\"},\n",
    "]\n",
    "prompt = pipe.tokenizer.apply_chat_template(messages, tokenize=False, add_generation_prompt=True)\n",
    "outputs = pipe(prompt, max_new_tokens=256, do_sample=True, temperature=0.7, top_k=50, top_p=0.95)\n",
    "print(outputs[0][\"generated_text\"])"
   ]
  },
  {
   "cell_type": "code",
   "execution_count": 84,
   "metadata": {},
   "outputs": [
    {
     "name": "stdout",
     "output_type": "stream",
     "text": [
      "<|system|>\n",
      "You are a customer service agent who reads messages about car insurance. You class the messages into categories of Car Breakdown, Car Crash, Car Renewal, Car Theft, Car Windshield, Other. answer with only those categories</s>\n",
      "<|user|>\n",
      "windshield cracked and needs repair</s>\n",
      "<|assistant|>\n",
      "Car Breakdown\n",
      "- Cracked windshield due to accident or natural causes\n",
      "- Torn windshield due to road debris or tree branches\n",
      "- Leaking windshield due to leaks or punctures\n",
      "\n",
      "Car Crash\n",
      "- Crash caused by vehicle collision, such as collision with another vehicle, pedestrian, or object\n",
      "- Crash caused by a sudden stop or lane change\n",
      "- Crash caused by a driver's negligence or intoxication\n",
      "\n",
      "Car Renewal\n",
      "- Damaged or missing windshield during previous renewal\n",
      "- Windshield damage caused by hail or extreme weather conditions\n",
      "- Windshield damage caused by driving in extreme temperatures or humidity\n",
      "\n",
      "Car Theft\n",
      "- Theft caused by a thief intentionally breaking into a vehicle to steal the windshield\n",
      "- Theft caused by a thief who broke into the vehicle but failed to steal the windshield\n",
      "- Theft caused by a thief who stole the car and damaged the windshield in the process\n",
      "\n",
      "Car Windshield\n",
      "- Damage caused by wind or rain\n",
      "- Damage caused by natural weather conditions or damage to\n"
     ]
    }
   ],
   "source": [
    "# We use the tokenizer's chat template to format each message - see https://huggingface.co/docs/transformers/main/en/chat_templating\n",
    "messages = [\n",
    "    {\n",
    "        \"role\": \"system\",\n",
    "        \"content\": \"You are a customer service agent who reads messages about car insurance. You class the messages into categories of Car Breakdown, Car Crash, Car Renewal, Car Theft, Car Windshield, Other. answer with only those categories\",\n",
    "    },\n",
    "    {\"role\": \"user\", \"content\": \"windshield cracked and needs repair\"},\n",
    "]\n",
    "prompt = pipe.tokenizer.apply_chat_template(messages, tokenize=False, add_generation_prompt=True)\n",
    "outputs = pipe(prompt, max_new_tokens=256, do_sample=True, temperature=0.7, top_k=50, top_p=0.95)\n",
    "print(outputs[0][\"generated_text\"])"
   ]
  },
  {
   "cell_type": "code",
   "execution_count": 81,
   "metadata": {},
   "outputs": [
    {
     "name": "stderr",
     "output_type": "stream",
     "text": [
      "The following generation flags are not valid and may be ignored: ['temperature', 'top_k']. Set `TRANSFORMERS_VERBOSITY=info` for more details.\n"
     ]
    },
    {
     "name": "stdout",
     "output_type": "stream",
     "text": [
      "After a rear-\n"
     ]
    }
   ],
   "source": [
    "labels = [\"CarBreakdown\",\"CarCrash\",\"CarRenewal\",\"CarTheft\",\"CarWindshield\",\"Other\"]\n",
    "\n",
    "messages = [\n",
    "    {\"role\": \"system\",\n",
    "     \"content\": (\n",
    "         \"You are an email triage classifier for a car insurer.\\n\"\n",
    "         \"CLASS LABELS (must choose exactly one): CarBreakdown, CarCrash, CarRenewal, CarTheft, CarWindshield, Other.\\n\"\n",
    "         \"Rules:\\n\"\n",
    "         \"1) Output exactly ONE label from the list above.\\n\"\n",
    "         \"2) Output ONLY the label text. No punctuation, no quotes, no explanation.\\n\"\n",
    "         \"Quick guide:\\n\"\n",
    "         \"- CarBreakdown: engine won’t start, tow, battery, stranded, overheating.\\n\"\n",
    "         \"- CarCrash: collisions, rear-ended, hit, accident, damage from impact.\\n\"\n",
    "         \"- CarRenewal: renewal prices, add driver at renewal, change car for renewal.\\n\"\n",
    "         \"- CarTheft: stolen, theft, break-in, police report for theft.\\n\"\n",
    "         \"- CarWindshield: windscreen/windshield/glass crack/chip.\\n\"\n",
    "         \"- Other: general policy/portal/docs questions not covered above.\"\n",
    "     )\n",
    "    },\n",
    "\n",
    "    # a couple of compact few-shot examples to anchor the format\n",
    "    {\"role\": \"user\", \"content\": \"engine died at junction, need a tow to a garage\"},\n",
    "    {\"role\": \"assistant\", \"content\": \"CarBreakdown\"},\n",
    "\n",
    "    {\"role\": \"user\", \"content\": \"rear ended at lights, no injuries\"},\n",
    "    {\"role\": \"assistant\", \"content\": \"CarCrash\"},\n",
    "\n",
    "    # your actual query\n",
    "    {\"role\": \"user\", \"content\": \"rear ended at lights, no injuries. Car only damaged. what do i do after a crash\"},\n",
    "]\n",
    "prompt = pipe.tokenizer.apply_chat_template(messages, tokenize=False, add_generation_prompt=True)\n",
    "\n",
    "# Deterministic, short completion, no sampling\n",
    "outputs = pipe(\n",
    "    prompt,\n",
    "    max_new_tokens=4,          # short, all labels < 4 tokens\n",
    "    do_sample=False,\n",
    "    temperature=0.0,\n",
    "    top_k=0,\n",
    "    top_p=1.0,\n",
    "    return_full_text=False,\n",
    ")\n",
    "print(outputs[0][\"generated_text\"].strip())\n"
   ]
  },
  {
   "cell_type": "code",
   "execution_count": 82,
   "metadata": {},
   "outputs": [
    {
     "name": "stdout",
     "output_type": "stream",
     "text": [
      "CarRenewal\n"
     ]
    }
   ],
   "source": [
    "from collections import defaultdict\n",
    "\n",
    "labels = [\"CarBreakdown\",\"CarCrash\",\"CarRenewal\",\"CarTheft\",\"CarWindshield\",\"Other\"]\n",
    "\n",
    "tok = pipe.tokenizer\n",
    "model = pipe.model\n",
    "\n",
    "# Build token-id sequences for each label\n",
    "label_token_seqs = [tok(lab, add_special_tokens=False)[\"input_ids\"] for lab in labels]\n",
    "\n",
    "# Build a simple trie over token ids\n",
    "TRIE_END = -1\n",
    "def build_trie(seqs):\n",
    "    root = {}\n",
    "    for idx, seq in enumerate(seqs):\n",
    "        node = root\n",
    "        for tid in seq:\n",
    "            node = node.setdefault(tid, {})\n",
    "        node[TRIE_END] = idx  # mark end-of-label\n",
    "    return root\n",
    "\n",
    "trie = build_trie(label_token_seqs)\n",
    "\n",
    "# Make the prompt as before\n",
    "prompt = tok.apply_chat_template(messages, tokenize=False, add_generation_prompt=True)\n",
    "inputs = tok(prompt, return_tensors=\"pt\").to(model.device)\n",
    "input_len = inputs[\"input_ids\"].shape[1]\n",
    "\n",
    "# Allowed-next-tokens function, applied only on the generated suffix\n",
    "def allowed_next_tokens_fn(batch_id, full_ids):\n",
    "    # only consider what has been generated after the prompt\n",
    "    gen_ids = full_ids[input_len:]\n",
    "    node = trie\n",
    "\n",
    "    # Walk the trie according to the generated suffix\n",
    "    for tid in gen_ids.tolist():\n",
    "        if tid in node:\n",
    "            node = node[tid]\n",
    "            # If a label just finished, only allow EOS to end immediately\n",
    "            if TRIE_END in node:\n",
    "                return [tok.eos_token_id]\n",
    "        else:\n",
    "            # If it diverged, only allow starting a label from scratch\n",
    "            node = trie\n",
    "            break\n",
    "\n",
    "    # Allowed continuations are the children keys; if none, allow EOS\n",
    "    allowed = list(node.keys())\n",
    "    return allowed if allowed else [tok.eos_token_id]\n",
    "\n",
    "# Generate: greedy, short, constrained\n",
    "with torch.inference_mode():\n",
    "    out_ids = model.generate(\n",
    "        **inputs,\n",
    "        max_new_tokens=8,\n",
    "        do_sample=False,\n",
    "        eos_token_id=tok.eos_token_id,\n",
    "        pad_token_id=tok.eos_token_id,\n",
    "        prefix_allowed_tokens_fn=allowed_next_tokens_fn,\n",
    "    )\n",
    "\n",
    "completion = tok.decode(out_ids[0, input_len:], skip_special_tokens=True).strip()\n",
    "print(completion)  # will be exactly one of the labels\n"
   ]
  },
  {
   "cell_type": "code",
   "execution_count": 85,
   "metadata": {},
   "outputs": [
    {
     "name": "stdout",
     "output_type": "stream",
     "text": [
      "INPUT: windshield cracked and needs repair\n",
      "PRED : Other\n",
      "INPUT: premium went up 20% at renewal, can I add a named driver?\n",
      "PRED : Other\n"
     ]
    }
   ],
   "source": [
    "import torch\n",
    "\n",
    "LABELS = [\"CarBreakdown\",\"CarCrash\",\"CarRenewal\",\"CarTheft\",\"CarWindshield\",\"Other\"]\n",
    "\n",
    "def score_label_with_llm(user_text, pipe):\n",
    "    tok = pipe.tokenizer\n",
    "    model = pipe.model\n",
    "    model.eval()\n",
    "\n",
    "    # Build prompt once\n",
    "    system_text = (\n",
    "        \"You are an email triage classifier for a car insurer. \"\n",
    "        \"Choose exactly one class for the user's message.\"\n",
    "    )\n",
    "    messages = [{\"role\":\"system\",\"content\":system_text},\n",
    "                {\"role\":\"user\",\"content\":user_text}]\n",
    "    prompt = tok.apply_chat_template(messages, tokenize=False, add_generation_prompt=True)\n",
    "    prompt_ids = tok(prompt, return_tensors=\"pt\").to(model.device)\n",
    "\n",
    "    scores = []\n",
    "    with torch.inference_mode():\n",
    "        for lab in LABELS:\n",
    "            lab_ids = tok(lab, add_special_tokens=False, return_tensors=\"pt\").to(model.device)\n",
    "            # Concatenate prompt + label\n",
    "            input_ids = torch.cat([prompt_ids[\"input_ids\"], lab_ids[\"input_ids\"]], dim=1)\n",
    "            # Only compute loss on the label tokens\n",
    "            labels = input_ids.clone()\n",
    "            labels[:, :prompt_ids[\"input_ids\"].shape[1]] = -100\n",
    "            out = model(input_ids=input_ids, labels=labels)\n",
    "            # Convert mean CE loss to total log-prob (higher is better)\n",
    "            label_token_count = (labels != -100).sum().item()\n",
    "            nll = out.loss.item() * label_token_count\n",
    "            scores.append(-nll)\n",
    "\n",
    "    best = LABELS[int(torch.tensor(scores).argmax().item())]\n",
    "    return best\n",
    "\n",
    "# Test\n",
    "print(\"INPUT:\", \"windshield cracked and needs repair\")\n",
    "print(\"PRED :\", score_label_with_llm(\"windshield cracked and needs repair\", pipe))\n",
    "\n",
    "print(\"INPUT:\", \"premium went up 20% at renewal, can I add a named driver?\")\n",
    "print(\"PRED :\", score_label_with_llm(\"premium went up 20% at renewal, can I add a named driver?\", pipe))\n"
   ]
  },
  {
   "cell_type": "code",
   "execution_count": 86,
   "metadata": {},
   "outputs": [
    {
     "name": "stdout",
     "output_type": "stream",
     "text": [
      "INPUT: windshield cracked and needs repair\n",
      "PRED : CarRenewal\n",
      "INPUT: premium went up 20% at renewal, can I add a named driver?\n",
      "PRED : CarRenewal\n"
     ]
    }
   ],
   "source": [
    "# One short example per class (balanced few-shot)\n",
    "choices = {\n",
    "    \"A\": \"CarBreakdown\",\n",
    "    \"B\": \"CarCrash\",\n",
    "    \"C\": \"CarRenewal\",\n",
    "    \"D\": \"CarTheft\",\n",
    "    \"E\": \"CarWindshield\",\n",
    "    \"F\": \"Other\",\n",
    "}\n",
    "\n",
    "system_text = (\n",
    "    \"Classify the user's message into EXACTLY ONE of these classes by replying ONLY with a single letter:\\n\"\n",
    "    \"A) CarBreakdown  B) CarCrash  C) CarRenewal  D) CarTheft  E) CarWindshield  F) Other\"\n",
    ")\n",
    "\n",
    "few_shot = [\n",
    "    (\"engine died at junction, need a tow\",               \"A\"),\n",
    "    (\"rear ended at the lights, no injuries\",             \"B\"),\n",
    "    (\"renewal price up 20%, can I add a driver?\",         \"C\"),\n",
    "    (\"my car was stolen overnight, police ref 123\",       \"D\"),\n",
    "    (\"windshield cracked by stone on motorway\",           \"E\"),\n",
    "    (\"where do I download my insurance disc?\",            \"F\"),\n",
    "]\n",
    "\n",
    "def build_messages(user_text):\n",
    "    msgs = [{\"role\":\"system\",\"content\":system_text}]\n",
    "    for u, a in few_shot:\n",
    "        msgs += [{\"role\":\"user\",\"content\":u},{\"role\":\"assistant\",\"content\":a}]\n",
    "    msgs += [{\"role\":\"user\",\"content\":user_text}]\n",
    "    return msgs\n",
    "\n",
    "def classify_letter(user_text, pipe):\n",
    "    tok = pipe.tokenizer\n",
    "    model = pipe.model\n",
    "    messages = build_messages(user_text)\n",
    "    prompt = tok.apply_chat_template(messages, tokenize=False, add_generation_prompt=True)\n",
    "\n",
    "    # Constrain to A–F (and optionally lowercase a–f)\n",
    "    allowed_tokens = set()\n",
    "    for ch in list(\"ABCDEFabcdef\"):\n",
    "        ids = tok(ch, add_special_tokens=False)[\"input_ids\"]\n",
    "        # allow only single-token letters; if multi-token, we'll just fall back to greedy\n",
    "        if len(ids) == 1:\n",
    "            allowed_tokens.add(ids[0])\n",
    "\n",
    "    inputs = tok(prompt, return_tensors=\"pt\").to(model.device)\n",
    "    input_len = inputs[\"input_ids\"].shape[1]\n",
    "\n",
    "    def prefix_allowed_tokens_fn(batch_id, full_ids):\n",
    "        # after prompt, only allow a single letter token\n",
    "        if len(full_ids[input_len:]) == 0:\n",
    "            return list(allowed_tokens) if allowed_tokens else None\n",
    "        # after first token, force EOS\n",
    "        return [tok.eos_token_id]\n",
    "\n",
    "    with torch.inference_mode():\n",
    "        out_ids = model.generate(\n",
    "            **inputs,\n",
    "            max_new_tokens=2,\n",
    "            do_sample=False,\n",
    "            return_dict_in_generate=False,\n",
    "            eos_token_id=tok.eos_token_id,\n",
    "            pad_token_id=tok.eos_token_id,\n",
    "            prefix_allowed_tokens_fn=(prefix_allowed_tokens_fn if allowed_tokens else None),\n",
    "        )\n",
    "\n",
    "    gen = tok.decode(out_ids[0, input_len:], skip_special_tokens=True).strip()\n",
    "    letter = gen[:1].upper()  # first char only\n",
    "    return choices.get(letter, \"Other\")\n",
    "\n",
    "# Test\n",
    "print(\"INPUT:\", \"windshield cracked and needs repair\")\n",
    "print(\"PRED :\", classify_letter(\"windshield cracked and needs repair\", pipe))\n",
    "\n",
    "print(\"INPUT:\", \"premium went up 20% at renewal, can I add a named driver?\")\n",
    "print(\"PRED :\", classify_letter(\"premium went up 20% at renewal, can I add a named driver?\", pipe))\n"
   ]
  },
  {
   "cell_type": "code",
   "execution_count": 91,
   "metadata": {},
   "outputs": [
    {
     "name": "stdout",
     "output_type": "stream",
     "text": [
      "INPUT: windshield cracked and needs repair\n",
      "PRED : CarRenewal\n",
      "INPUT: premium went up 20% at renewal, can I add a named driver?\n",
      "PRED : CarRenewal\n",
      "INPUT: my car crashed into another car?\n",
      "PRED : CarRenewal\n"
     ]
    }
   ],
   "source": [
    "def classify_with_llm(user_text, pipe, few_shot=True):\n",
    "    tok = pipe.tokenizer\n",
    "    model = pipe.model\n",
    "\n",
    "    labels = [\"CarBreakdown\",\"CarCrash\",\"CarRenewal\",\"CarTheft\",\"CarWindshield\",\"Other\"]\n",
    "\n",
    "    system_text = (\n",
    "        \"You are an email triage classifier for a car insurer.\\n\"\n",
    "        \"CLASS LABELS (must choose exactly one): CarBreakdown, CarCrash, CarRenewal, CarTheft, CarWindshield, Other.\\n\"\n",
    "        \"Rules:\\n\"\n",
    "        \"1) Output exactly ONE label from the list above.\\n\"\n",
    "        \"2) Output ONLY the label text. No punctuation, no quotes, no explanation.\\n\"\n",
    "        \"Quick guide:\\n\"\n",
    "        \"- CarBreakdown: engine won’t start, tow, battery, stranded, overheating.\\n\"\n",
    "        \"- CarCrash: collisions, rear-ended, hit, accident, damage from impact.\\n\"\n",
    "        \"- CarRenewal: renewal\\n\"\n",
    "        \"- CarTheft: stolen, theft, break-in, taken robbed, police report for theft.\\n\"\n",
    "        \"- CarWindshield: windscreen windshield glass crack chip.\\n\"\n",
    "        \"- Other: general policy/portal/docs questions not covered above.\"\n",
    "    )\n",
    "\n",
    "    messages = [{\"role\":\"system\",\"content\":system_text}]\n",
    "    if few_shot:\n",
    "        messages += [\n",
    "            {\"role\":\"user\",\"content\":\"engine died at junction, need a tow to a garage\"},\n",
    "            {\"role\":\"assistant\",\"content\":\"CarBreakdown\"},\n",
    "            {\"role\":\"user\",\"content\":\"rear ended at lights, no injuries\"},\n",
    "            {\"role\":\"assistant\",\"content\":\"CarCrash\"},\n",
    "            {\"role\":\"user\",\"content\":\"my windscreen got cracked while driving\"},\n",
    "            {\"role\":\"assistant\",\"content\":\"CarWindshield\"},\n",
    "        ]\n",
    "    # 👇 YOUR INPUT GOES HERE\n",
    "    messages += [{\"role\":\"user\",\"content\":user_text}]\n",
    "\n",
    "    # ---- constrained decoding bits (same as before) ----\n",
    "    label_token_seqs = [tok(l, add_special_tokens=False)[\"input_ids\"] for l in labels]\n",
    "    TRIE_END = -1\n",
    "    def build_trie(seqs):\n",
    "        root = {}\n",
    "        for idx, seq in enumerate(seqs):\n",
    "            node = root\n",
    "            for tid in seq:\n",
    "                node = node.setdefault(tid, {})\n",
    "            node[TRIE_END] = idx\n",
    "        return root\n",
    "    trie = build_trie(label_token_seqs)\n",
    "\n",
    "    prompt = tok.apply_chat_template(messages, tokenize=False, add_generation_prompt=True)\n",
    "    inputs = tok(prompt, return_tensors=\"pt\").to(model.device)\n",
    "    input_len = inputs[\"input_ids\"].shape[1]\n",
    "\n",
    "    def allowed_next_tokens_fn(batch_id, full_ids):\n",
    "        gen_ids = full_ids[input_len:]\n",
    "        node = trie\n",
    "        for tid in gen_ids.tolist():\n",
    "            if tid in node:\n",
    "                node = node[tid]\n",
    "                if TRIE_END in node:\n",
    "                    return [tok.eos_token_id]\n",
    "            else:\n",
    "                node = trie\n",
    "                break\n",
    "        allowed = list(node.keys())\n",
    "        return allowed if allowed else [tok.eos_token_id]\n",
    "\n",
    "    with torch.inference_mode():\n",
    "        out_ids = model.generate(\n",
    "            **inputs,\n",
    "            max_new_tokens=8,\n",
    "            do_sample=False,\n",
    "            eos_token_id=tok.eos_token_id,\n",
    "            pad_token_id=tok.eos_token_id,\n",
    "            prefix_allowed_tokens_fn=allowed_next_tokens_fn,\n",
    "        )\n",
    "\n",
    "    label = tok.decode(out_ids[0, input_len:], skip_special_tokens=True).strip()\n",
    "    return label\n",
    "\n",
    "# Examples\n",
    "print(\"INPUT:\", \"windshield cracked and needs repair\")\n",
    "print(\"PRED :\", classify_with_llm(\"windshield cracked and needs repair\", pipe))\n",
    "\n",
    "print(\"INPUT:\", \"premium went up 20% at renewal, can I add a named driver?\")\n",
    "print(\"PRED :\", classify_with_llm(\"premium went up 20% at renewal, can I add a named driver?\", pipe))\n",
    "\n",
    "print(\"INPUT:\", \"my car crashed into another car?\")\n",
    "print(\"PRED :\", classify_with_llm(\"my car crashed into another car?\", pipe))\n",
    "\n"
   ]
  },
  {
   "cell_type": "code",
   "execution_count": 91,
   "metadata": {},
   "outputs": [
    {
     "name": "stdout",
     "output_type": "stream",
     "text": [
      "INPUT: windshield cracked and needs repair\n",
      "PRED : CarRenewal\n",
      "INPUT: premium went up 20% at renewal, can I add a named driver?\n",
      "PRED : CarRenewal\n",
      "INPUT: my car crashed into another car?\n",
      "PRED : CarRenewal\n"
     ]
    }
   ],
   "source": [
    "def classify_with_llm(user_text, pipe, few_shot=True):\n",
    "    tok = pipe.tokenizer\n",
    "    model = pipe.model\n",
    "\n",
    "    labels = [\"CarBreakdown\",\"CarCrash\",\"CarRenewal\",\"CarTheft\",\"CarWindshield\",\"Other\"]\n",
    "\n",
    "    system_text = (\n",
    "        \"You are an email triage classifier for a car insurer.\\n\"\n",
    "        \"CLASS LABELS (must choose exactly one): CarBreakdown, CarCrash, CarRenewal, CarTheft, CarWindshield, Other.\\n\"\n",
    "        \"Rules:\\n\"\n",
    "        \"1) Output exactly ONE label from the list above.\\n\"\n",
    "        \"2) Output ONLY the label text. No punctuation, no quotes, no explanation.\\n\"\n",
    "        \"Quick guide:\\n\"\n",
    "        \"- CarBreakdown: engine won’t start, tow, battery, stranded, overheating.\\n\"\n",
    "        \"- CarCrash: collisions, rear-ended, hit, accident, damage from impact.\\n\"\n",
    "        \"- CarRenewal: renewal\\n\"\n",
    "        \"- CarTheft: stolen, theft, break-in, taken robbed, police report for theft.\\n\"\n",
    "        \"- CarWindshield: windscreen windshield glass crack chip.\\n\"\n",
    "        \"- Other: general policy/portal/docs questions not covered above.\"\n",
    "    )\n",
    "\n",
    "    messages = [{\"role\":\"system\",\"content\":system_text}]\n",
    "    if few_shot:\n",
    "        messages += [\n",
    "            {\"role\":\"user\",\"content\":\"engine died at junction, need a tow to a garage\"},\n",
    "            {\"role\":\"assistant\",\"content\":\"CarBreakdown\"},\n",
    "            {\"role\":\"user\",\"content\":\"rear ended at lights, no injuries\"},\n",
    "            {\"role\":\"assistant\",\"content\":\"CarCrash\"},\n",
    "            {\"role\":\"user\",\"content\":\"my windscreen got cracked while driving\"},\n",
    "            {\"role\":\"assistant\",\"content\":\"CarWindshield\"},\n",
    "        ]\n",
    "    # 👇 YOUR INPUT GOES HERE\n",
    "    messages += [{\"role\":\"user\",\"content\":user_text}]\n",
    "\n",
    "    # ---- constrained decoding bits (same as before) ----\n",
    "    label_token_seqs = [tok(l, add_special_tokens=False)[\"input_ids\"] for l in labels]\n",
    "    TRIE_END = -1\n",
    "    def build_trie(seqs):\n",
    "        root = {}\n",
    "        for idx, seq in enumerate(seqs):\n",
    "            node = root\n",
    "            for tid in seq:\n",
    "                node = node.setdefault(tid, {})\n",
    "            node[TRIE_END] = idx\n",
    "        return root\n",
    "    trie = build_trie(label_token_seqs)\n",
    "\n",
    "    prompt = tok.apply_chat_template(messages, tokenize=False, add_generation_prompt=True)\n",
    "    inputs = tok(prompt, return_tensors=\"pt\").to(model.device)\n",
    "    input_len = inputs[\"input_ids\"].shape[1]\n",
    "\n",
    "    def allowed_next_tokens_fn(batch_id, full_ids):\n",
    "        gen_ids = full_ids[input_len:]\n",
    "        node = trie\n",
    "        for tid in gen_ids.tolist():\n",
    "            if tid in node:\n",
    "                node = node[tid]\n",
    "                if TRIE_END in node:\n",
    "                    return [tok.eos_token_id]\n",
    "            else:\n",
    "                node = trie\n",
    "                break\n",
    "        allowed = list(node.keys())\n",
    "        return allowed if allowed else [tok.eos_token_id]\n",
    "\n",
    "    with torch.inference_mode():\n",
    "        out_ids = model.generate(\n",
    "            **inputs,\n",
    "            max_new_tokens=8,\n",
    "            do_sample=False,\n",
    "            eos_token_id=tok.eos_token_id,\n",
    "            pad_token_id=tok.eos_token_id,\n",
    "            prefix_allowed_tokens_fn=allowed_next_tokens_fn,\n",
    "        )\n",
    "\n",
    "    label = tok.decode(out_ids[0, input_len:], skip_special_tokens=True).strip()\n",
    "    return label\n",
    "\n",
    "# Examples\n",
    "print(\"INPUT:\", \"windshield cracked and needs repair\")\n",
    "print(\"PRED :\", classify_with_llm(\"windshield cracked and needs repair\", pipe))\n",
    "\n",
    "print(\"INPUT:\", \"premium went up 20% at renewal, can I add a named driver?\")\n",
    "print(\"PRED :\", classify_with_llm(\"premium went up 20% at renewal, can I add a named driver?\", pipe))\n",
    "\n",
    "print(\"INPUT:\", \"my car crashed into another car?\")\n",
    "print(\"PRED :\", classify_with_llm(\"my car crashed into another car?\", pipe))\n",
    "\n"
   ]
  },
  {
   "cell_type": "code",
   "execution_count": 93,
   "metadata": {},
   "outputs": [],
   "source": [
    "import torch\n",
    "\n",
    "LABELS = [\"CarBreakdown\",\"CarCrash\",\"CarRenewal\",\"CarTheft\",\"CarWindshield\",\"Other\"]\n",
    "\n",
    "def classify_llm_ranker(user_text, pipe, labels=LABELS):\n",
    "    tok, model = pipe.tokenizer, pipe.model\n",
    "    model.eval()\n",
    "\n",
    "    # Minimal, neutral prompt to reduce bias\n",
    "    system_text = \"Classify the user's message into exactly one label.\"\n",
    "    messages = [\n",
    "        {\"role\":\"system\", \"content\": system_text},\n",
    "        {\"role\":\"user\",   \"content\": user_text}\n",
    "    ]\n",
    "\n",
    "    if hasattr(tok, \"apply_chat_template\"):\n",
    "        prompt = tok.apply_chat_template(messages, tokenize=False, add_generation_prompt=True)\n",
    "    else:\n",
    "        prompt = f\"[SYSTEM]{system_text}\\n[USER]{user_text}\\n[ASSISTANT]\"\n",
    "\n",
    "    prompt_ids = tok(prompt, return_tensors=\"pt\").to(model.device)\n",
    "\n",
    "    scores = []\n",
    "    with torch.inference_mode():\n",
    "        for lab in labels:\n",
    "            lab_ids = tok(lab, add_special_tokens=False, return_tensors=\"pt\").to(model.device)\n",
    "            # prompt + label\n",
    "            input_ids = torch.cat([prompt_ids[\"input_ids\"], lab_ids[\"input_ids\"]], dim=1)\n",
    "            # only score the label tokens\n",
    "            labels_ids = input_ids.clone()\n",
    "            labels_ids[:, :prompt_ids[\"input_ids\"].shape[1]] = -100\n",
    "            out = model(input_ids=input_ids, labels=labels_ids)\n",
    "            # convert mean loss to total NLL so different lengths are fair\n",
    "            L = (labels_ids != -100).sum().item()\n",
    "            nll = out.loss.item() * L\n",
    "            scores.append(-nll)  # higher = better\n",
    "\n",
    "    best_idx = int(torch.tensor(scores).argmax().item())\n",
    "    return labels[best_idx], dict(zip(labels, scores))\n"
   ]
  },
  {
   "cell_type": "code",
   "execution_count": 94,
   "metadata": {},
   "outputs": [
    {
     "name": "stdout",
     "output_type": "stream",
     "text": [
      "Other\n",
      "Other\n",
      "Other\n"
     ]
    }
   ],
   "source": [
    "print(classify_llm_ranker(\"windshield cracked and needs repair\", pipe)[0])  # -> CarWindshield\n",
    "print(classify_llm_ranker(\"premium went up 20% at renewal, can I add a named driver?\", pipe)[0])  # -> CarRenewal\n",
    "print(classify_llm_ranker(\"my car crashed into another car?\", pipe)[0])  # -> CarCrash\n"
   ]
  },
  {
   "cell_type": "code",
   "execution_count": 95,
   "metadata": {},
   "outputs": [],
   "source": [
    "LETTER_MAP = {\n",
    "    \"A\":\"CarBreakdown\", \"B\":\"CarCrash\", \"C\":\"CarRenewal\",\n",
    "    \"D\":\"CarTheft\", \"E\":\"CarWindshield\", \"F\":\"Other\"\n",
    "}\n",
    "\n",
    "def classify_letter(user_text, pipe):\n",
    "    tok, model = pipe.tokenizer, pipe.model\n",
    "    messages = [\n",
    "        {\"role\":\"system\",\n",
    "         \"content\":\"Reply with a single letter for the best class: A) CarBreakdown  B) CarCrash  C) CarRenewal  D) CarTheft  E) CarWindshield  F) Other\"},\n",
    "        {\"role\":\"user\", \"content\":\"engine died at junction, need a tow\"},   {\"role\":\"assistant\",\"content\":\"A\"},\n",
    "        {\"role\":\"user\", \"content\":\"rear ended at lights, no injuries\"},      {\"role\":\"assistant\",\"content\":\"B\"},\n",
    "        {\"role\":\"user\", \"content\":\"renewal up 20%, add named driver?\"},      {\"role\":\"assistant\",\"content\":\"C\"},\n",
    "        {\"role\":\"user\", \"content\":\"car stolen overnight, police ref 123\"},   {\"role\":\"assistant\",\"content\":\"D\"},\n",
    "        {\"role\":\"user\", \"content\":\"stone cracked windshield on motorway\"},   {\"role\":\"assistant\",\"content\":\"E\"},\n",
    "        {\"role\":\"user\", \"content\":\"where can I download my cert?\"},          {\"role\":\"assistant\",\"content\":\"F\"},\n",
    "        {\"role\":\"user\", \"content\": user_text}\n",
    "    ]\n",
    "    prompt = tok.apply_chat_template(messages, tokenize=False, add_generation_prompt=True)\n",
    "    inputs = tok(prompt, return_tensors=\"pt\").to(model.device)\n",
    "\n",
    "    # Constrain to single-token letters if available\n",
    "    allowed = {tok(ch, add_special_tokens=False)[\"input_ids\"][0]\n",
    "               for ch in \"ABCDEF\" if len(tok(ch, add_special_tokens=False)[\"input_ids\"])==1}\n",
    "\n",
    "    input_len = inputs[\"input_ids\"].shape[1]\n",
    "    def prefix_allowed_tokens_fn(batch_id, full_ids):\n",
    "        gen = full_ids[input_len:]\n",
    "        if len(gen)==0:\n",
    "            return list(allowed) if allowed else None\n",
    "        return [tok.eos_token_id]\n",
    "\n",
    "    with torch.inference_mode():\n",
    "        out_ids = model.generate(\n",
    "            **inputs,\n",
    "            max_new_tokens=2,\n",
    "            do_sample=False,\n",
    "            eos_token_id=tok.eos_token_id,\n",
    "            pad_token_id=tok.eos_token_id,\n",
    "            prefix_allowed_tokens_fn=(prefix_allowed_tokens_fn if len(allowed)>0 else None),\n",
    "        )\n",
    "\n",
    "    txt = tok.decode(out_ids[0, input_len:], skip_special_tokens=True).strip()\n",
    "    return LETTER_MAP.get(txt[:1].upper(), \"Other\")\n"
   ]
  },
  {
   "cell_type": "code",
   "execution_count": 96,
   "metadata": {},
   "outputs": [
    {
     "name": "stdout",
     "output_type": "stream",
     "text": [
      "C\n",
      "C\n",
      "C\n"
     ]
    }
   ],
   "source": [
    "print(classify_letter(\"windshield cracked and needs repair\", pipe)[0])  # -> CarWindshield\n",
    "print(classify_letter(\"premium went up 20% at renewal, can I add a named driver?\", pipe)[0])  # -> CarRenewal\n",
    "print(classify_letter(\"my car crashed into another car?\", pipe)[0])  # -> CarCrash\n"
   ]
  },
  {
   "cell_type": "code",
   "execution_count": 9,
   "metadata": {},
   "outputs": [
    {
     "name": "stderr",
     "output_type": "stream",
     "text": [
      "Some parameters are on the meta device because they were offloaded to the disk.\n"
     ]
    }
   ],
   "source": [
    "import torch\n",
    "from transformers import AutoTokenizer, AutoModelForCausalLM\n",
    "\n",
    "model_id = \"Qwen/Qwen2.5-1.5B-Instruct\"   # or \"google/gemma-2-2b-it\"\n",
    "\n",
    "tok = AutoTokenizer.from_pretrained(model_id, use_fast=True)\n",
    "model = AutoModelForCausalLM.from_pretrained(\n",
    "    model_id,\n",
    "    torch_dtype=(torch.bfloat16 if torch.cuda.is_available() else torch.float32),\n",
    "    device_map=\"auto\",\n",
    ")\n"
   ]
  },
  {
   "cell_type": "code",
   "execution_count": 101,
   "metadata": {},
   "outputs": [
    {
     "name": "stderr",
     "output_type": "stream",
     "text": [
      "huggingface/tokenizers: The current process just got forked, after parallelism has already been used. Disabling parallelism to avoid deadlocks...\n",
      "To disable this warning, you can either:\n",
      "\t- Avoid using `tokenizers` before the fork if possible\n",
      "\t- Explicitly set the environment variable TOKENIZERS_PARALLELISM=(true | false)\n"
     ]
    },
    {
     "name": "stdout",
     "output_type": "stream",
     "text": [
      "Requirement already satisfied: bitsandbytes in /Users/davidcurran/Documents/emailClassify/venv/lib/python3.13/site-packages (0.42.0)\n",
      "Requirement already satisfied: scipy in /Users/davidcurran/Documents/emailClassify/venv/lib/python3.13/site-packages (from bitsandbytes) (1.16.1)\n",
      "Requirement already satisfied: numpy<2.6,>=1.25.2 in /Users/davidcurran/Documents/emailClassify/venv/lib/python3.13/site-packages (from scipy->bitsandbytes) (2.3.2)\n",
      "\n",
      "\u001b[1m[\u001b[0m\u001b[34;49mnotice\u001b[0m\u001b[1;39;49m]\u001b[0m\u001b[39;49m A new release of pip is available: \u001b[0m\u001b[31;49m25.0\u001b[0m\u001b[39;49m -> \u001b[0m\u001b[32;49m25.2\u001b[0m\n",
      "\u001b[1m[\u001b[0m\u001b[34;49mnotice\u001b[0m\u001b[1;39;49m]\u001b[0m\u001b[39;49m To update, run: \u001b[0m\u001b[32;49mpip install --upgrade pip\u001b[0m\n",
      "Note: you may need to restart the kernel to use updated packages.\n"
     ]
    }
   ],
   "source": [
    "pip install -U bitsandbytes"
   ]
  },
  {
   "cell_type": "code",
   "execution_count": 10,
   "metadata": {},
   "outputs": [
    {
     "name": "stdout",
     "output_type": "stream",
     "text": [
      "Other\n",
      "Other\n",
      "Other\n"
     ]
    }
   ],
   "source": [
    "# Map 1..6 → your labels\n",
    "IDX2LABEL = {\n",
    "    \"1\":\"CarBreakdown\",\n",
    "    \"2\":\"CarCrash\",\n",
    "    \"3\":\"CarRenewal\",\n",
    "    \"4\":\"CarTheft\",\n",
    "    \"5\":\"CarWindshield\",\n",
    "    \"6\":\"Other\",\n",
    "}\n",
    "\n",
    "def classify_digits(user_text, pipe):\n",
    "    tok, model = pipe.tokenizer, pipe.model\n",
    "    msgs = [\n",
    "        {\"role\":\"system\",\"content\":\"Reply with ONE digit only: 1=CarBreakdown 2=CarCrash 3=CarRenewal 4=CarTheft 5=CarWindshield 6=Other\"},\n",
    "        {\"role\":\"user\",\"content\":\"engine died at junction, need a tow\"}, {\"role\":\"assistant\",\"content\":\"1\"},\n",
    "        {\"role\":\"user\",\"content\":\"rear ended at lights, no injuries\"},   {\"role\":\"assistant\",\"content\":\"2\"},\n",
    "        {\"role\":\"user\",\"content\":\"renewal up 20%, add named driver?\"},   {\"role\":\"assistant\",\"content\":\"3\"},\n",
    "        {\"role\":\"user\",\"content\":\"car stolen overnight, police ref 123\"},{\"role\":\"assistant\",\"content\":\"4\"},\n",
    "        {\"role\":\"user\",\"content\":\"stone cracked windshield on motorway\"},{\"role\":\"assistant\",\"content\":\"5\"},\n",
    "        {\"role\":\"user\",\"content\":\"where can I download my cert?\"},       {\"role\":\"assistant\",\"content\":\"6\"},\n",
    "        {\"role\":\"user\",\"content\":user_text}\n",
    "    ]\n",
    "    prompt = tok.apply_chat_template(msgs, tokenize=False, add_generation_prompt=True)\n",
    "    inputs = tok(prompt, return_tensors=\"pt\").to(model.device)\n",
    "    input_len = inputs[\"input_ids\"].shape[1]\n",
    "\n",
    "    # Constrain to single-token digits 1..6 (if available)\n",
    "    allowed = []\n",
    "    for d in \"123456\":\n",
    "        ids = tok(d, add_special_tokens=False)[\"input_ids\"]\n",
    "        if len(ids) == 1:\n",
    "            allowed.append(ids[0])\n",
    "\n",
    "    def prefix_allowed_tokens_fn(batch_id, full_ids):\n",
    "        if len(full_ids[input_len:]) == 0 and allowed:\n",
    "            return allowed\n",
    "        return [tok.eos_token_id]\n",
    "\n",
    "    with torch.inference_mode():\n",
    "        out_ids = model.generate(\n",
    "            **inputs,\n",
    "            max_new_tokens=2,\n",
    "            do_sample=False,\n",
    "            eos_token_id=tok.eos_token_id,\n",
    "            pad_token_id=tok.eos_token_id,\n",
    "            prefix_allowed_tokens_fn=(prefix_allowed_tokens_fn if allowed else None),\n",
    "        )\n",
    "\n",
    "    txt = tok.decode(out_ids[0, input_len:], skip_special_tokens=True).strip()\n",
    "    digit = next((c for c in txt if c in \"123456\"), None)\n",
    "    return IDX2LABEL.get(digit, \"Other\")\n",
    "\n",
    "print(classify_digits(\"windshield cracked and needs repair\", pipe))               # → CarWindshield\n",
    "print(classify_digits(\"premium up 20% at renewal, add named driver?\", pipe))     # → CarRenewal\n",
    "print(classify_digits(\"my car crashed into another car?\", pipe))                  # → CarCrash\n"
   ]
  },
  {
   "cell_type": "code",
   "execution_count": 11,
   "metadata": {},
   "outputs": [
    {
     "data": {
      "text/plain": [
       "2"
      ]
     },
     "execution_count": 11,
     "metadata": {},
     "output_type": "execute_result"
    }
   ],
   "source": [
    "1+1"
   ]
  },
  {
   "cell_type": "code",
   "execution_count": 12,
   "metadata": {},
   "outputs": [
    {
     "name": "stdout",
     "output_type": "stream",
     "text": [
      "Other\n"
     ]
    }
   ],
   "source": [
    "print(classify_digits(\"windshield cracked and needs repair\", pipe)) "
   ]
  },
  {
   "cell_type": "markdown",
   "metadata": {},
   "source": [
    "## google version"
   ]
  },
  {
   "cell_type": "markdown",
   "metadata": {},
   "source": [
    "This is google. Amazon, Microsoft, Oracle etc have an LLM you can talk to. So if you trust them with your email and other data you might trust them with your email in this form."
   ]
  },
  {
   "attachments": {
    "15404292-b5b3-4e9b-b6e8-9f52bc9e4661.png": {
     "image/png": "[encoded data removed]"
    }
   },
   "cell_type": "markdown",
   "metadata": {},
   "source": [
    "how to get api key\n",
    "\n",
    "https://ai.google.dev/gemini-api/docs/api-key\n",
    "\n",
    "![Screenshot 2025-08-14 at 09.00.52.png](attachment:15404292-b5b3-4e9b-b6e8-9f52bc9e4661.png)"
   ]
  },
  {
   "cell_type": "code",
   "execution_count": 19,
   "metadata": {},
   "outputs": [
    {
     "name": "stderr",
     "output_type": "stream",
     "text": [
      "huggingface/tokenizers: The current process just got forked, after parallelism has already been used. Disabling parallelism to avoid deadlocks...\n",
      "To disable this warning, you can either:\n",
      "\t- Avoid using `tokenizers` before the fork if possible\n",
      "\t- Explicitly set the environment variable TOKENIZERS_PARALLELISM=(true | false)\n"
     ]
    },
    {
     "name": "stdout",
     "output_type": "stream",
     "text": [
      "Found existing installation: genai 2.1.0\n",
      "Uninstalling genai-2.1.0:\n",
      "  Successfully uninstalled genai-2.1.0\n"
     ]
    },
    {
     "name": "stderr",
     "output_type": "stream",
     "text": [
      "huggingface/tokenizers: The current process just got forked, after parallelism has already been used. Disabling parallelism to avoid deadlocks...\n",
      "To disable this warning, you can either:\n",
      "\t- Avoid using `tokenizers` before the fork if possible\n",
      "\t- Explicitly set the environment variable TOKENIZERS_PARALLELISM=(true | false)\n"
     ]
    },
    {
     "name": "stdout",
     "output_type": "stream",
     "text": [
      "Collecting google-genai\n",
      "  Downloading google_genai-1.30.0-py3-none-any.whl.metadata (43 kB)\n",
      "Requirement already satisfied: anyio<5.0.0,>=4.8.0 in /Users/davidcurran/Documents/emailClassify/venv/lib/python3.13/site-packages (from google-genai) (4.9.0)\n",
      "Collecting google-auth<3.0.0,>=2.14.1 (from google-genai)\n",
      "  Using cached google_auth-2.40.3-py2.py3-none-any.whl.metadata (6.2 kB)\n",
      "Requirement already satisfied: httpx<1.0.0,>=0.28.1 in /Users/davidcurran/Documents/emailClassify/venv/lib/python3.13/site-packages (from google-genai) (0.28.1)\n",
      "Requirement already satisfied: pydantic<3.0.0,>=2.0.0 in /Users/davidcurran/Documents/emailClassify/venv/lib/python3.13/site-packages (from google-genai) (2.11.7)\n",
      "Requirement already satisfied: requests<3.0.0,>=2.28.1 in /Users/davidcurran/Documents/emailClassify/venv/lib/python3.13/site-packages (from google-genai) (2.32.4)\n",
      "Requirement already satisfied: tenacity<9.2.0,>=8.2.3 in /Users/davidcurran/Documents/emailClassify/venv/lib/python3.13/site-packages (from google-genai) (9.1.2)\n",
      "Collecting websockets<15.1.0,>=13.0.0 (from google-genai)\n",
      "  Using cached websockets-15.0.1-cp313-cp313-macosx_11_0_arm64.whl.metadata (6.8 kB)\n",
      "Requirement already satisfied: typing-extensions<5.0.0,>=4.11.0 in /Users/davidcurran/Documents/emailClassify/venv/lib/python3.13/site-packages (from google-genai) (4.14.1)\n",
      "Requirement already satisfied: idna>=2.8 in /Users/davidcurran/Documents/emailClassify/venv/lib/python3.13/site-packages (from anyio<5.0.0,>=4.8.0->google-genai) (3.10)\n",
      "Requirement already satisfied: sniffio>=1.1 in /Users/davidcurran/Documents/emailClassify/venv/lib/python3.13/site-packages (from anyio<5.0.0,>=4.8.0->google-genai) (1.3.1)\n",
      "Collecting cachetools<6.0,>=2.0.0 (from google-auth<3.0.0,>=2.14.1->google-genai)\n",
      "  Using cached cachetools-5.5.2-py3-none-any.whl.metadata (5.4 kB)\n",
      "Collecting pyasn1-modules>=0.2.1 (from google-auth<3.0.0,>=2.14.1->google-genai)\n",
      "  Using cached pyasn1_modules-0.4.2-py3-none-any.whl.metadata (3.5 kB)\n",
      "Collecting rsa<5,>=3.1.4 (from google-auth<3.0.0,>=2.14.1->google-genai)\n",
      "  Using cached rsa-4.9.1-py3-none-any.whl.metadata (5.6 kB)\n",
      "Requirement already satisfied: certifi in /Users/davidcurran/Documents/emailClassify/venv/lib/python3.13/site-packages (from httpx<1.0.0,>=0.28.1->google-genai) (2025.7.14)\n",
      "Requirement already satisfied: httpcore==1.* in /Users/davidcurran/Documents/emailClassify/venv/lib/python3.13/site-packages (from httpx<1.0.0,>=0.28.1->google-genai) (1.0.9)\n",
      "Requirement already satisfied: h11>=0.16 in /Users/davidcurran/Documents/emailClassify/venv/lib/python3.13/site-packages (from httpcore==1.*->httpx<1.0.0,>=0.28.1->google-genai) (0.16.0)\n",
      "Requirement already satisfied: annotated-types>=0.6.0 in /Users/davidcurran/Documents/emailClassify/venv/lib/python3.13/site-packages (from pydantic<3.0.0,>=2.0.0->google-genai) (0.7.0)\n",
      "Requirement already satisfied: pydantic-core==2.33.2 in /Users/davidcurran/Documents/emailClassify/venv/lib/python3.13/site-packages (from pydantic<3.0.0,>=2.0.0->google-genai) (2.33.2)\n",
      "Requirement already satisfied: typing-inspection>=0.4.0 in /Users/davidcurran/Documents/emailClassify/venv/lib/python3.13/site-packages (from pydantic<3.0.0,>=2.0.0->google-genai) (0.4.1)\n",
      "Requirement already satisfied: charset_normalizer<4,>=2 in /Users/davidcurran/Documents/emailClassify/venv/lib/python3.13/site-packages (from requests<3.0.0,>=2.28.1->google-genai) (3.4.2)\n",
      "Requirement already satisfied: urllib3<3,>=1.21.1 in /Users/davidcurran/Documents/emailClassify/venv/lib/python3.13/site-packages (from requests<3.0.0,>=2.28.1->google-genai) (2.5.0)\n",
      "Collecting pyasn1<0.7.0,>=0.6.1 (from pyasn1-modules>=0.2.1->google-auth<3.0.0,>=2.14.1->google-genai)\n",
      "  Using cached pyasn1-0.6.1-py3-none-any.whl.metadata (8.4 kB)\n",
      "Downloading google_genai-1.30.0-py3-none-any.whl (229 kB)\n",
      "Using cached google_auth-2.40.3-py2.py3-none-any.whl (216 kB)\n",
      "Using cached websockets-15.0.1-cp313-cp313-macosx_11_0_arm64.whl (173 kB)\n",
      "Using cached cachetools-5.5.2-py3-none-any.whl (10 kB)\n",
      "Using cached pyasn1_modules-0.4.2-py3-none-any.whl (181 kB)\n",
      "Using cached rsa-4.9.1-py3-none-any.whl (34 kB)\n",
      "Using cached pyasn1-0.6.1-py3-none-any.whl (83 kB)\n",
      "Installing collected packages: websockets, pyasn1, cachetools, rsa, pyasn1-modules, google-auth, google-genai\n",
      "  Attempting uninstall: cachetools\n",
      "    Found existing installation: cachetools 6.1.0\n",
      "    Uninstalling cachetools-6.1.0:\n",
      "      Successfully uninstalled cachetools-6.1.0\n",
      "Successfully installed cachetools-5.5.2 google-auth-2.40.3 google-genai-1.30.0 pyasn1-0.6.1 pyasn1-modules-0.4.2 rsa-4.9.1 websockets-15.0.1\n",
      "\n",
      "\u001b[1m[\u001b[0m\u001b[34;49mnotice\u001b[0m\u001b[1;39;49m]\u001b[0m\u001b[39;49m A new release of pip is available: \u001b[0m\u001b[31;49m25.0\u001b[0m\u001b[39;49m -> \u001b[0m\u001b[32;49m25.2\u001b[0m\n",
      "\u001b[1m[\u001b[0m\u001b[34;49mnotice\u001b[0m\u001b[1;39;49m]\u001b[0m\u001b[39;49m To update, run: \u001b[0m\u001b[32;49mpip install --upgrade pip\u001b[0m\n"
     ]
    }
   ],
   "source": [
    "!pip uninstall -y genai\n",
    "\n",
    "# Install the official SDK\n",
    "!pip install -U google-genai"
   ]
  },
  {
   "cell_type": "code",
   "execution_count": null,
   "metadata": {},
   "outputs": [],
   "source": []
  },
  {
   "cell_type": "code",
   "execution_count": 20,
   "metadata": {},
   "outputs": [],
   "source": [
    "# !pip install -U google-genai\n",
    "\n",
    "import os\n",
    "from google import genai\n",
    "from google.genai import types\n",
    "# Read your API key from env (recommended). Fallback to a literal for quick tests.\n",
    "\n",
    "API_KEY = os.getenv(\"GEMINI_API_KEY\") or \"APIKEY\"\n",
    "# Choose a model (fast/cheap): see https://ai.google.dev/gemini-api/docs/models\n",
    "MODEL_ID = \"gemini-2.5-flash\"  # or \"gemini-2.5-flash-lite\"\n",
    "\n",
    "client = genai.Client(api_key=API_KEY)\n",
    "\n",
    "def ask(contents, config=None, model=MODEL_ID):\n",
    "    \"\"\"\n",
    "    Minimal wrapper:\n",
    "    - contents: str | list[parts] (text, images, etc.)\n",
    "    - config:   types.GenerateContentConfig or plain dict\n",
    "    Returns .parsed (JSON mode) if present, else .text.\n",
    "    \"\"\"\n",
    "    resp = client.models.generate_content(model=model, contents=contents, config=config)\n",
    "    return getattr(resp, \"parsed\", None) or getattr(resp, \"text\", \"\")\n"
   ]
  },
  {
   "cell_type": "code",
   "execution_count": 21,
   "metadata": {},
   "outputs": [],
   "source": [
    "# A) General Q&A\n",
    "qa_config = types.GenerateContentConfig(\n",
    "    system_instruction=\"You are concise and helpful.\",\n",
    "    max_output_tokens=256,\n",
    "    temperature=0.3,\n",
    ")\n",
    "\n",
    "# B) Strict single-label classifier (JSON-enforced)\n",
    "LABELS = [\"CarBreakdown\",\"CarCrash\",\"CarRenewal\",\"CarTheft\",\"CarWindshield\",\"Other\"]\n",
    "\n",
    "classify_config = types.GenerateContentConfig(\n",
    "    system_instruction=\"Return exactly one label for the user's message.\",\n",
    "    response_mime_type=\"application/json\",\n",
    "    response_schema={   # JSON Schema; forces output to be one of the labels\n",
    "        \"type\": \"string\",\n",
    "        \"enum\": LABELS,\n",
    "    },\n",
    "    temperature=0.0,\n",
    ")\n"
   ]
  },
  {
   "cell_type": "code",
   "execution_count": 22,
   "metadata": {},
   "outputs": [
    {
     "name": "stdout",
     "output_type": "stream",
     "text": [
      "None\n",
      "windshield cracked and needs repair -> CarWindshield\n",
      "premium up 20% at renewal, add named driver? -> CarRenewal\n",
      "my car crashed into another car? -> CarCrash\n"
     ]
    }
   ],
   "source": [
    "# General Q&A\n",
    "resp = client.models.generate_content(\n",
    "    model=\"gemini-2.5-flash\",\n",
    "    contents=\"Explain how AI works in a few words.\",\n",
    "    config=qa_config,\n",
    ")\n",
    "print(resp.text)\n",
    "\n",
    "# Classification (returns a Python string via .parsed)\n",
    "for text in [\n",
    "    \"windshield cracked and needs repair\",\n",
    "    \"premium up 20% at renewal, add named driver?\",\n",
    "    \"my car crashed into another car?\",\n",
    "]:\n",
    "    r = client.models.generate_content(\n",
    "        model=\"gemini-2.5-flash\",\n",
    "        contents=text,\n",
    "        config=classify_config,\n",
    "    )\n",
    "    print(text, \"->\", r.parsed)  # e.g., \"CarWindshield\"\n"
   ]
  },
  {
   "cell_type": "markdown",
   "metadata": {},
   "source": [
    "Connect this to both UIs"
   ]
  },
  {
   "cell_type": "code",
   "execution_count": null,
   "metadata": {},
   "outputs": [],
   "source": []
  }
 ],
 "metadata": {
  "kernelspec": {
   "display_name": "Python 3 (ipykernel)",
   "language": "python",
   "name": "python3"
  },
  "language_info": {
   "codemirror_mode": {
    "name": "ipython",
    "version": 3
   },
   "file_extension": ".py",
   "mimetype": "text/x-python",
   "name": "python",
   "nbconvert_exporter": "python",
   "pygments_lexer": "ipython3",
   "version": "3.13.2"
  }
 },
 "nbformat": 4,
 "nbformat_minor": 4
}
